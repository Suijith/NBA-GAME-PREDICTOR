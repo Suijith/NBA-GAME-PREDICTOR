{
  "nbformat": 4,
  "nbformat_minor": 0,
  "metadata": {
    "colab": {
      "provenance": [],
      "authorship_tag": "ABX9TyOsZ/VgVaFIE9e0DLQBhUMR",
      "include_colab_link": true
    },
    "kernelspec": {
      "name": "python3",
      "display_name": "Python 3"
    },
    "language_info": {
      "name": "python"
    }
  },
  "cells": [
    {
      "cell_type": "markdown",
      "metadata": {
        "id": "view-in-github",
        "colab_type": "text"
      },
      "source": [
        "<a href=\"https://colab.research.google.com/github/Suijith/NBA-GAME-PREDICTOR/blob/main/NBA_GAME_PREDICTOR_MODEL.ipynb\" target=\"_parent\"><img src=\"https://colab.research.google.com/assets/colab-badge.svg\" alt=\"Open In Colab\"/></a>"
      ]
    },
    {
      "cell_type": "markdown",
      "source": [
        "# NBA GAME PREDICTOR"
      ],
      "metadata": {
        "id": "0bBHmLMQca1N"
      }
    },
    {
      "cell_type": "markdown",
      "source": [
        "## Install NBA API"
      ],
      "metadata": {
        "id": "T0VxwNg3cxO0"
      }
    },
    {
      "cell_type": "code",
      "source": [
        "pip install nba_api\n"
      ],
      "metadata": {
        "colab": {
          "base_uri": "https://localhost:8080/"
        },
        "id": "Q08bwIsszzRT",
        "outputId": "7317957c-f7ec-4be4-ca1d-b8472bb3e4cb"
      },
      "execution_count": 1,
      "outputs": [
        {
          "output_type": "stream",
          "name": "stdout",
          "text": [
            "Collecting nba_api\n",
            "  Downloading nba_api-1.4.1-py3-none-any.whl (261 kB)\n",
            "\u001b[2K     \u001b[90m━━━━━━━━━━━━━━━━━━━━━━━━━━━━━━━━━━━━━━━━\u001b[0m \u001b[32m261.7/261.7 kB\u001b[0m \u001b[31m2.6 MB/s\u001b[0m eta \u001b[36m0:00:00\u001b[0m\n",
            "\u001b[?25hRequirement already satisfied: certifi<2024.0.0,>=2023.7.22 in /usr/local/lib/python3.10/dist-packages (from nba_api) (2023.11.17)\n",
            "Requirement already satisfied: numpy<2.0.0,>=1.22.2 in /usr/local/lib/python3.10/dist-packages (from nba_api) (1.23.5)\n",
            "Requirement already satisfied: requests<3.0,>=2.31 in /usr/local/lib/python3.10/dist-packages (from nba_api) (2.31.0)\n",
            "Requirement already satisfied: charset-normalizer<4,>=2 in /usr/local/lib/python3.10/dist-packages (from requests<3.0,>=2.31->nba_api) (3.3.2)\n",
            "Requirement already satisfied: idna<4,>=2.5 in /usr/local/lib/python3.10/dist-packages (from requests<3.0,>=2.31->nba_api) (3.6)\n",
            "Requirement already satisfied: urllib3<3,>=1.21.1 in /usr/local/lib/python3.10/dist-packages (from requests<3.0,>=2.31->nba_api) (2.0.7)\n",
            "Installing collected packages: nba_api\n",
            "Successfully installed nba_api-1.4.1\n"
          ]
        }
      ]
    },
    {
      "cell_type": "markdown",
      "source": [
        "\n",
        "## Collect Data"
      ],
      "metadata": {
        "id": "DHN_pUvCc9ja"
      }
    },
    {
      "cell_type": "code",
      "source": [
        "from nba_api.stats.static import teams\n",
        "team_games = {}\n",
        "nba_teams = teams.get_teams()\n",
        "for i in range(len(nba_teams)):\n",
        "  team_info = nba_teams[i]\n",
        "  team_games[team_info['id']] = None"
      ],
      "metadata": {
        "id": "sIwLlNM7RFRX"
      },
      "execution_count": 2,
      "outputs": []
    },
    {
      "cell_type": "code",
      "source": [
        "team_games.keys()"
      ],
      "metadata": {
        "colab": {
          "base_uri": "https://localhost:8080/"
        },
        "id": "nNnWbWQX1NbT",
        "outputId": "4a36db91-9221-47d0-ab6e-c189d9987b00"
      },
      "execution_count": null,
      "outputs": [
        {
          "output_type": "execute_result",
          "data": {
            "text/plain": [
              "dict_keys([1610612737, 1610612738, 1610612739, 1610612740, 1610612741, 1610612742, 1610612743, 1610612744, 1610612745, 1610612746, 1610612747, 1610612748, 1610612749, 1610612750, 1610612751, 1610612752, 1610612753, 1610612754, 1610612755, 1610612756, 1610612757, 1610612758, 1610612759, 1610612760, 1610612761, 1610612762, 1610612763, 1610612764, 1610612765, 1610612766])"
            ]
          },
          "metadata": {},
          "execution_count": 121
        }
      ]
    },
    {
      "cell_type": "markdown",
      "source": [
        "I decided to take the past three seasons and no more past that because I would then have to include the 2019-2020 season, where part of the NBA games played were in the bubble in Orlando."
      ],
      "metadata": {
        "id": "JqyaZvIHdXKd"
      }
    },
    {
      "cell_type": "code",
      "source": [
        "from nba_api.stats.endpoints import leaguegamefinder\n",
        "for team_id in team_games:\n",
        "  gamefinder = leaguegamefinder.LeagueGameFinder(team_id_nullable=team_id)\n",
        "  games = gamefinder.get_data_frames()[0]\n",
        "  team_games[team_id] = games[games.SEASON_ID.str[-4:].isin(['2020', '2021', '2022', '2023'])][['SEASON_ID', 'TEAM_NAME', 'GAME_DATE', 'MATCHUP', 'WL', 'FG_PCT', 'FT_PCT', 'REB', 'TOV', 'PF', 'PLUS_MINUS']]\n",
        "  team_games[team_id]['MATCHUP'] = team_games[team_id]['MATCHUP'].astype(str).apply(lambda x: x[-3:])\n",
        "  team_games[team_id].rename(columns={'MATCHUP': 'OPP'}, inplace=True)\n",
        "  team_games[team_id] = team_games[team_id].dropna(subset=['WL'])\n",
        "  team_games[team_id]['WL'] = team_games[team_id]['WL'].replace({'W': 1, 'L': 0})\n"
      ],
      "metadata": {
        "id": "ZFYy4W89RQ0P"
      },
      "execution_count": 3,
      "outputs": []
    },
    {
      "cell_type": "code",
      "source": [
        "team_games[1610612755]"
      ],
      "metadata": {
        "colab": {
          "base_uri": "https://localhost:8080/",
          "height": 424
        },
        "id": "c0h5m3wQc13D",
        "outputId": "544bfeb9-3580-4ae4-eeb6-79f7f1a75da9"
      },
      "execution_count": null,
      "outputs": [
        {
          "output_type": "execute_result",
          "data": {
            "text/plain": [
              "    SEASON_ID           TEAM_NAME   GAME_DATE  OPP  WL  FG_PCT  FT_PCT  REB  \\\n",
              "1       22023  Philadelphia 76ers  2024-01-16  DEN   1   0.566   0.735   32   \n",
              "2       22023  Philadelphia 76ers  2024-01-15  HOU   1   0.482   0.853   41   \n",
              "3       22023  Philadelphia 76ers  2024-01-12  SAC   1   0.430   0.944   46   \n",
              "4       22023  Philadelphia 76ers  2024-01-10  ATL   0   0.451   0.848   51   \n",
              "5       22023  Philadelphia 76ers  2024-01-06  UTA   0   0.404   0.783   34   \n",
              "..        ...                 ...         ...  ...  ..     ...     ...  ...   \n",
              "341     22020  Philadelphia 76ers  2020-12-27  CLE   0   0.418   0.727   39   \n",
              "342     22020  Philadelphia 76ers  2020-12-26  NYK   1   0.466   0.727   47   \n",
              "343     22020  Philadelphia 76ers  2020-12-23  WAS   1   0.471   0.767   47   \n",
              "344     12020  Philadelphia 76ers  2020-12-18  IND   1   0.533   0.629   48   \n",
              "345     12020  Philadelphia 76ers  2020-12-15  BOS   1   0.471   0.750   42   \n",
              "\n",
              "     TOV  PF  PLUS_MINUS  \n",
              "1      8  21         5.0  \n",
              "2     10  24         9.0  \n",
              "3     13  19        19.0  \n",
              "4     11  28        -7.0  \n",
              "5      6  20       -11.0  \n",
              "..   ...  ..         ...  \n",
              "341   21  19       -24.0  \n",
              "342   12  19        20.0  \n",
              "343   16  25         6.0  \n",
              "344   26  31         6.0  \n",
              "345   16  24         9.0  \n",
              "\n",
              "[345 rows x 11 columns]"
            ],
            "text/html": [
              "\n",
              "  <div id=\"df-8ff1e368-dc01-4823-a832-13a3263cfe19\" class=\"colab-df-container\">\n",
              "    <div>\n",
              "<style scoped>\n",
              "    .dataframe tbody tr th:only-of-type {\n",
              "        vertical-align: middle;\n",
              "    }\n",
              "\n",
              "    .dataframe tbody tr th {\n",
              "        vertical-align: top;\n",
              "    }\n",
              "\n",
              "    .dataframe thead th {\n",
              "        text-align: right;\n",
              "    }\n",
              "</style>\n",
              "<table border=\"1\" class=\"dataframe\">\n",
              "  <thead>\n",
              "    <tr style=\"text-align: right;\">\n",
              "      <th></th>\n",
              "      <th>SEASON_ID</th>\n",
              "      <th>TEAM_NAME</th>\n",
              "      <th>GAME_DATE</th>\n",
              "      <th>OPP</th>\n",
              "      <th>WL</th>\n",
              "      <th>FG_PCT</th>\n",
              "      <th>FT_PCT</th>\n",
              "      <th>REB</th>\n",
              "      <th>TOV</th>\n",
              "      <th>PF</th>\n",
              "      <th>PLUS_MINUS</th>\n",
              "    </tr>\n",
              "  </thead>\n",
              "  <tbody>\n",
              "    <tr>\n",
              "      <th>1</th>\n",
              "      <td>22023</td>\n",
              "      <td>Philadelphia 76ers</td>\n",
              "      <td>2024-01-16</td>\n",
              "      <td>DEN</td>\n",
              "      <td>1</td>\n",
              "      <td>0.566</td>\n",
              "      <td>0.735</td>\n",
              "      <td>32</td>\n",
              "      <td>8</td>\n",
              "      <td>21</td>\n",
              "      <td>5.0</td>\n",
              "    </tr>\n",
              "    <tr>\n",
              "      <th>2</th>\n",
              "      <td>22023</td>\n",
              "      <td>Philadelphia 76ers</td>\n",
              "      <td>2024-01-15</td>\n",
              "      <td>HOU</td>\n",
              "      <td>1</td>\n",
              "      <td>0.482</td>\n",
              "      <td>0.853</td>\n",
              "      <td>41</td>\n",
              "      <td>10</td>\n",
              "      <td>24</td>\n",
              "      <td>9.0</td>\n",
              "    </tr>\n",
              "    <tr>\n",
              "      <th>3</th>\n",
              "      <td>22023</td>\n",
              "      <td>Philadelphia 76ers</td>\n",
              "      <td>2024-01-12</td>\n",
              "      <td>SAC</td>\n",
              "      <td>1</td>\n",
              "      <td>0.430</td>\n",
              "      <td>0.944</td>\n",
              "      <td>46</td>\n",
              "      <td>13</td>\n",
              "      <td>19</td>\n",
              "      <td>19.0</td>\n",
              "    </tr>\n",
              "    <tr>\n",
              "      <th>4</th>\n",
              "      <td>22023</td>\n",
              "      <td>Philadelphia 76ers</td>\n",
              "      <td>2024-01-10</td>\n",
              "      <td>ATL</td>\n",
              "      <td>0</td>\n",
              "      <td>0.451</td>\n",
              "      <td>0.848</td>\n",
              "      <td>51</td>\n",
              "      <td>11</td>\n",
              "      <td>28</td>\n",
              "      <td>-7.0</td>\n",
              "    </tr>\n",
              "    <tr>\n",
              "      <th>5</th>\n",
              "      <td>22023</td>\n",
              "      <td>Philadelphia 76ers</td>\n",
              "      <td>2024-01-06</td>\n",
              "      <td>UTA</td>\n",
              "      <td>0</td>\n",
              "      <td>0.404</td>\n",
              "      <td>0.783</td>\n",
              "      <td>34</td>\n",
              "      <td>6</td>\n",
              "      <td>20</td>\n",
              "      <td>-11.0</td>\n",
              "    </tr>\n",
              "    <tr>\n",
              "      <th>...</th>\n",
              "      <td>...</td>\n",
              "      <td>...</td>\n",
              "      <td>...</td>\n",
              "      <td>...</td>\n",
              "      <td>...</td>\n",
              "      <td>...</td>\n",
              "      <td>...</td>\n",
              "      <td>...</td>\n",
              "      <td>...</td>\n",
              "      <td>...</td>\n",
              "      <td>...</td>\n",
              "    </tr>\n",
              "    <tr>\n",
              "      <th>341</th>\n",
              "      <td>22020</td>\n",
              "      <td>Philadelphia 76ers</td>\n",
              "      <td>2020-12-27</td>\n",
              "      <td>CLE</td>\n",
              "      <td>0</td>\n",
              "      <td>0.418</td>\n",
              "      <td>0.727</td>\n",
              "      <td>39</td>\n",
              "      <td>21</td>\n",
              "      <td>19</td>\n",
              "      <td>-24.0</td>\n",
              "    </tr>\n",
              "    <tr>\n",
              "      <th>342</th>\n",
              "      <td>22020</td>\n",
              "      <td>Philadelphia 76ers</td>\n",
              "      <td>2020-12-26</td>\n",
              "      <td>NYK</td>\n",
              "      <td>1</td>\n",
              "      <td>0.466</td>\n",
              "      <td>0.727</td>\n",
              "      <td>47</td>\n",
              "      <td>12</td>\n",
              "      <td>19</td>\n",
              "      <td>20.0</td>\n",
              "    </tr>\n",
              "    <tr>\n",
              "      <th>343</th>\n",
              "      <td>22020</td>\n",
              "      <td>Philadelphia 76ers</td>\n",
              "      <td>2020-12-23</td>\n",
              "      <td>WAS</td>\n",
              "      <td>1</td>\n",
              "      <td>0.471</td>\n",
              "      <td>0.767</td>\n",
              "      <td>47</td>\n",
              "      <td>16</td>\n",
              "      <td>25</td>\n",
              "      <td>6.0</td>\n",
              "    </tr>\n",
              "    <tr>\n",
              "      <th>344</th>\n",
              "      <td>12020</td>\n",
              "      <td>Philadelphia 76ers</td>\n",
              "      <td>2020-12-18</td>\n",
              "      <td>IND</td>\n",
              "      <td>1</td>\n",
              "      <td>0.533</td>\n",
              "      <td>0.629</td>\n",
              "      <td>48</td>\n",
              "      <td>26</td>\n",
              "      <td>31</td>\n",
              "      <td>6.0</td>\n",
              "    </tr>\n",
              "    <tr>\n",
              "      <th>345</th>\n",
              "      <td>12020</td>\n",
              "      <td>Philadelphia 76ers</td>\n",
              "      <td>2020-12-15</td>\n",
              "      <td>BOS</td>\n",
              "      <td>1</td>\n",
              "      <td>0.471</td>\n",
              "      <td>0.750</td>\n",
              "      <td>42</td>\n",
              "      <td>16</td>\n",
              "      <td>24</td>\n",
              "      <td>9.0</td>\n",
              "    </tr>\n",
              "  </tbody>\n",
              "</table>\n",
              "<p>345 rows × 11 columns</p>\n",
              "</div>\n",
              "    <div class=\"colab-df-buttons\">\n",
              "\n",
              "  <div class=\"colab-df-container\">\n",
              "    <button class=\"colab-df-convert\" onclick=\"convertToInteractive('df-8ff1e368-dc01-4823-a832-13a3263cfe19')\"\n",
              "            title=\"Convert this dataframe to an interactive table.\"\n",
              "            style=\"display:none;\">\n",
              "\n",
              "  <svg xmlns=\"http://www.w3.org/2000/svg\" height=\"24px\" viewBox=\"0 -960 960 960\">\n",
              "    <path d=\"M120-120v-720h720v720H120Zm60-500h600v-160H180v160Zm220 220h160v-160H400v160Zm0 220h160v-160H400v160ZM180-400h160v-160H180v160Zm440 0h160v-160H620v160ZM180-180h160v-160H180v160Zm440 0h160v-160H620v160Z\"/>\n",
              "  </svg>\n",
              "    </button>\n",
              "\n",
              "  <style>\n",
              "    .colab-df-container {\n",
              "      display:flex;\n",
              "      gap: 12px;\n",
              "    }\n",
              "\n",
              "    .colab-df-convert {\n",
              "      background-color: #E8F0FE;\n",
              "      border: none;\n",
              "      border-radius: 50%;\n",
              "      cursor: pointer;\n",
              "      display: none;\n",
              "      fill: #1967D2;\n",
              "      height: 32px;\n",
              "      padding: 0 0 0 0;\n",
              "      width: 32px;\n",
              "    }\n",
              "\n",
              "    .colab-df-convert:hover {\n",
              "      background-color: #E2EBFA;\n",
              "      box-shadow: 0px 1px 2px rgba(60, 64, 67, 0.3), 0px 1px 3px 1px rgba(60, 64, 67, 0.15);\n",
              "      fill: #174EA6;\n",
              "    }\n",
              "\n",
              "    .colab-df-buttons div {\n",
              "      margin-bottom: 4px;\n",
              "    }\n",
              "\n",
              "    [theme=dark] .colab-df-convert {\n",
              "      background-color: #3B4455;\n",
              "      fill: #D2E3FC;\n",
              "    }\n",
              "\n",
              "    [theme=dark] .colab-df-convert:hover {\n",
              "      background-color: #434B5C;\n",
              "      box-shadow: 0px 1px 3px 1px rgba(0, 0, 0, 0.15);\n",
              "      filter: drop-shadow(0px 1px 2px rgba(0, 0, 0, 0.3));\n",
              "      fill: #FFFFFF;\n",
              "    }\n",
              "  </style>\n",
              "\n",
              "    <script>\n",
              "      const buttonEl =\n",
              "        document.querySelector('#df-8ff1e368-dc01-4823-a832-13a3263cfe19 button.colab-df-convert');\n",
              "      buttonEl.style.display =\n",
              "        google.colab.kernel.accessAllowed ? 'block' : 'none';\n",
              "\n",
              "      async function convertToInteractive(key) {\n",
              "        const element = document.querySelector('#df-8ff1e368-dc01-4823-a832-13a3263cfe19');\n",
              "        const dataTable =\n",
              "          await google.colab.kernel.invokeFunction('convertToInteractive',\n",
              "                                                    [key], {});\n",
              "        if (!dataTable) return;\n",
              "\n",
              "        const docLinkHtml = 'Like what you see? Visit the ' +\n",
              "          '<a target=\"_blank\" href=https://colab.research.google.com/notebooks/data_table.ipynb>data table notebook</a>'\n",
              "          + ' to learn more about interactive tables.';\n",
              "        element.innerHTML = '';\n",
              "        dataTable['output_type'] = 'display_data';\n",
              "        await google.colab.output.renderOutput(dataTable, element);\n",
              "        const docLink = document.createElement('div');\n",
              "        docLink.innerHTML = docLinkHtml;\n",
              "        element.appendChild(docLink);\n",
              "      }\n",
              "    </script>\n",
              "  </div>\n",
              "\n",
              "\n",
              "<div id=\"df-84c29fe4-26ca-4ede-b997-54597949e84e\">\n",
              "  <button class=\"colab-df-quickchart\" onclick=\"quickchart('df-84c29fe4-26ca-4ede-b997-54597949e84e')\"\n",
              "            title=\"Suggest charts\"\n",
              "            style=\"display:none;\">\n",
              "\n",
              "<svg xmlns=\"http://www.w3.org/2000/svg\" height=\"24px\"viewBox=\"0 0 24 24\"\n",
              "     width=\"24px\">\n",
              "    <g>\n",
              "        <path d=\"M19 3H5c-1.1 0-2 .9-2 2v14c0 1.1.9 2 2 2h14c1.1 0 2-.9 2-2V5c0-1.1-.9-2-2-2zM9 17H7v-7h2v7zm4 0h-2V7h2v10zm4 0h-2v-4h2v4z\"/>\n",
              "    </g>\n",
              "</svg>\n",
              "  </button>\n",
              "\n",
              "<style>\n",
              "  .colab-df-quickchart {\n",
              "      --bg-color: #E8F0FE;\n",
              "      --fill-color: #1967D2;\n",
              "      --hover-bg-color: #E2EBFA;\n",
              "      --hover-fill-color: #174EA6;\n",
              "      --disabled-fill-color: #AAA;\n",
              "      --disabled-bg-color: #DDD;\n",
              "  }\n",
              "\n",
              "  [theme=dark] .colab-df-quickchart {\n",
              "      --bg-color: #3B4455;\n",
              "      --fill-color: #D2E3FC;\n",
              "      --hover-bg-color: #434B5C;\n",
              "      --hover-fill-color: #FFFFFF;\n",
              "      --disabled-bg-color: #3B4455;\n",
              "      --disabled-fill-color: #666;\n",
              "  }\n",
              "\n",
              "  .colab-df-quickchart {\n",
              "    background-color: var(--bg-color);\n",
              "    border: none;\n",
              "    border-radius: 50%;\n",
              "    cursor: pointer;\n",
              "    display: none;\n",
              "    fill: var(--fill-color);\n",
              "    height: 32px;\n",
              "    padding: 0;\n",
              "    width: 32px;\n",
              "  }\n",
              "\n",
              "  .colab-df-quickchart:hover {\n",
              "    background-color: var(--hover-bg-color);\n",
              "    box-shadow: 0 1px 2px rgba(60, 64, 67, 0.3), 0 1px 3px 1px rgba(60, 64, 67, 0.15);\n",
              "    fill: var(--button-hover-fill-color);\n",
              "  }\n",
              "\n",
              "  .colab-df-quickchart-complete:disabled,\n",
              "  .colab-df-quickchart-complete:disabled:hover {\n",
              "    background-color: var(--disabled-bg-color);\n",
              "    fill: var(--disabled-fill-color);\n",
              "    box-shadow: none;\n",
              "  }\n",
              "\n",
              "  .colab-df-spinner {\n",
              "    border: 2px solid var(--fill-color);\n",
              "    border-color: transparent;\n",
              "    border-bottom-color: var(--fill-color);\n",
              "    animation:\n",
              "      spin 1s steps(1) infinite;\n",
              "  }\n",
              "\n",
              "  @keyframes spin {\n",
              "    0% {\n",
              "      border-color: transparent;\n",
              "      border-bottom-color: var(--fill-color);\n",
              "      border-left-color: var(--fill-color);\n",
              "    }\n",
              "    20% {\n",
              "      border-color: transparent;\n",
              "      border-left-color: var(--fill-color);\n",
              "      border-top-color: var(--fill-color);\n",
              "    }\n",
              "    30% {\n",
              "      border-color: transparent;\n",
              "      border-left-color: var(--fill-color);\n",
              "      border-top-color: var(--fill-color);\n",
              "      border-right-color: var(--fill-color);\n",
              "    }\n",
              "    40% {\n",
              "      border-color: transparent;\n",
              "      border-right-color: var(--fill-color);\n",
              "      border-top-color: var(--fill-color);\n",
              "    }\n",
              "    60% {\n",
              "      border-color: transparent;\n",
              "      border-right-color: var(--fill-color);\n",
              "    }\n",
              "    80% {\n",
              "      border-color: transparent;\n",
              "      border-right-color: var(--fill-color);\n",
              "      border-bottom-color: var(--fill-color);\n",
              "    }\n",
              "    90% {\n",
              "      border-color: transparent;\n",
              "      border-bottom-color: var(--fill-color);\n",
              "    }\n",
              "  }\n",
              "</style>\n",
              "\n",
              "  <script>\n",
              "    async function quickchart(key) {\n",
              "      const quickchartButtonEl =\n",
              "        document.querySelector('#' + key + ' button');\n",
              "      quickchartButtonEl.disabled = true;  // To prevent multiple clicks.\n",
              "      quickchartButtonEl.classList.add('colab-df-spinner');\n",
              "      try {\n",
              "        const charts = await google.colab.kernel.invokeFunction(\n",
              "            'suggestCharts', [key], {});\n",
              "      } catch (error) {\n",
              "        console.error('Error during call to suggestCharts:', error);\n",
              "      }\n",
              "      quickchartButtonEl.classList.remove('colab-df-spinner');\n",
              "      quickchartButtonEl.classList.add('colab-df-quickchart-complete');\n",
              "    }\n",
              "    (() => {\n",
              "      let quickchartButtonEl =\n",
              "        document.querySelector('#df-84c29fe4-26ca-4ede-b997-54597949e84e button');\n",
              "      quickchartButtonEl.style.display =\n",
              "        google.colab.kernel.accessAllowed ? 'block' : 'none';\n",
              "    })();\n",
              "  </script>\n",
              "</div>\n",
              "\n",
              "    </div>\n",
              "  </div>\n"
            ]
          },
          "metadata": {},
          "execution_count": 123
        }
      ]
    },
    {
      "cell_type": "markdown",
      "source": [
        "## Data Pre-Processing"
      ],
      "metadata": {
        "id": "SFz8AdIpnm1h"
      }
    },
    {
      "cell_type": "code",
      "source": [
        "df = team_games[1610612763]\n",
        "X = df[['FG_PCT', 'FT_PCT', 'REB', 'TOV', 'PF']].values\n",
        "y = df['WL'].values"
      ],
      "metadata": {
        "id": "ObG6SwgJV_Zt"
      },
      "execution_count": 4,
      "outputs": []
    },
    {
      "cell_type": "code",
      "source": [
        "from sklearn.model_selection import train_test_split\n",
        "X_train, X_test, y_train, y_test = train_test_split(X, y, test_size = 0.20, random_state = 42)"
      ],
      "metadata": {
        "id": "7IZjwRq6YXFn"
      },
      "execution_count": 5,
      "outputs": []
    },
    {
      "cell_type": "code",
      "source": [
        "from sklearn.preprocessing import StandardScaler\n",
        "sc = StandardScaler()\n",
        "X_train = sc.fit_transform(X_train)\n",
        "X_test = sc.transform(X_test)"
      ],
      "metadata": {
        "id": "2BpSGq8TZYB8"
      },
      "execution_count": 6,
      "outputs": []
    },
    {
      "cell_type": "markdown",
      "source": [
        "## BUILDING PREDICTION MODELS AND TESTING ACCURACY"
      ],
      "metadata": {
        "id": "iCboR8ghqFmf"
      }
    },
    {
      "cell_type": "markdown",
      "source": [
        "### Logistic Regression"
      ],
      "metadata": {
        "id": "dB7WjWSIqu_a"
      }
    },
    {
      "cell_type": "code",
      "source": [
        "from sklearn.linear_model import LogisticRegression\n",
        "classifier = LogisticRegression()\n",
        "classifier.fit(X_train, y_train)"
      ],
      "metadata": {
        "colab": {
          "base_uri": "https://localhost:8080/",
          "height": 75
        },
        "id": "-uskuEQWaqoi",
        "outputId": "a3fd736b-7b45-4fef-f4e8-ec926339e59c"
      },
      "execution_count": null,
      "outputs": [
        {
          "output_type": "execute_result",
          "data": {
            "text/plain": [
              "LogisticRegression()"
            ],
            "text/html": [
              "<style>#sk-container-id-16 {color: black;background-color: white;}#sk-container-id-16 pre{padding: 0;}#sk-container-id-16 div.sk-toggleable {background-color: white;}#sk-container-id-16 label.sk-toggleable__label {cursor: pointer;display: block;width: 100%;margin-bottom: 0;padding: 0.3em;box-sizing: border-box;text-align: center;}#sk-container-id-16 label.sk-toggleable__label-arrow:before {content: \"▸\";float: left;margin-right: 0.25em;color: #696969;}#sk-container-id-16 label.sk-toggleable__label-arrow:hover:before {color: black;}#sk-container-id-16 div.sk-estimator:hover label.sk-toggleable__label-arrow:before {color: black;}#sk-container-id-16 div.sk-toggleable__content {max-height: 0;max-width: 0;overflow: hidden;text-align: left;background-color: #f0f8ff;}#sk-container-id-16 div.sk-toggleable__content pre {margin: 0.2em;color: black;border-radius: 0.25em;background-color: #f0f8ff;}#sk-container-id-16 input.sk-toggleable__control:checked~div.sk-toggleable__content {max-height: 200px;max-width: 100%;overflow: auto;}#sk-container-id-16 input.sk-toggleable__control:checked~label.sk-toggleable__label-arrow:before {content: \"▾\";}#sk-container-id-16 div.sk-estimator input.sk-toggleable__control:checked~label.sk-toggleable__label {background-color: #d4ebff;}#sk-container-id-16 div.sk-label input.sk-toggleable__control:checked~label.sk-toggleable__label {background-color: #d4ebff;}#sk-container-id-16 input.sk-hidden--visually {border: 0;clip: rect(1px 1px 1px 1px);clip: rect(1px, 1px, 1px, 1px);height: 1px;margin: -1px;overflow: hidden;padding: 0;position: absolute;width: 1px;}#sk-container-id-16 div.sk-estimator {font-family: monospace;background-color: #f0f8ff;border: 1px dotted black;border-radius: 0.25em;box-sizing: border-box;margin-bottom: 0.5em;}#sk-container-id-16 div.sk-estimator:hover {background-color: #d4ebff;}#sk-container-id-16 div.sk-parallel-item::after {content: \"\";width: 100%;border-bottom: 1px solid gray;flex-grow: 1;}#sk-container-id-16 div.sk-label:hover label.sk-toggleable__label {background-color: #d4ebff;}#sk-container-id-16 div.sk-serial::before {content: \"\";position: absolute;border-left: 1px solid gray;box-sizing: border-box;top: 0;bottom: 0;left: 50%;z-index: 0;}#sk-container-id-16 div.sk-serial {display: flex;flex-direction: column;align-items: center;background-color: white;padding-right: 0.2em;padding-left: 0.2em;position: relative;}#sk-container-id-16 div.sk-item {position: relative;z-index: 1;}#sk-container-id-16 div.sk-parallel {display: flex;align-items: stretch;justify-content: center;background-color: white;position: relative;}#sk-container-id-16 div.sk-item::before, #sk-container-id-16 div.sk-parallel-item::before {content: \"\";position: absolute;border-left: 1px solid gray;box-sizing: border-box;top: 0;bottom: 0;left: 50%;z-index: -1;}#sk-container-id-16 div.sk-parallel-item {display: flex;flex-direction: column;z-index: 1;position: relative;background-color: white;}#sk-container-id-16 div.sk-parallel-item:first-child::after {align-self: flex-end;width: 50%;}#sk-container-id-16 div.sk-parallel-item:last-child::after {align-self: flex-start;width: 50%;}#sk-container-id-16 div.sk-parallel-item:only-child::after {width: 0;}#sk-container-id-16 div.sk-dashed-wrapped {border: 1px dashed gray;margin: 0 0.4em 0.5em 0.4em;box-sizing: border-box;padding-bottom: 0.4em;background-color: white;}#sk-container-id-16 div.sk-label label {font-family: monospace;font-weight: bold;display: inline-block;line-height: 1.2em;}#sk-container-id-16 div.sk-label-container {text-align: center;}#sk-container-id-16 div.sk-container {/* jupyter's `normalize.less` sets `[hidden] { display: none; }` but bootstrap.min.css set `[hidden] { display: none !important; }` so we also need the `!important` here to be able to override the default hidden behavior on the sphinx rendered scikit-learn.org. See: https://github.com/scikit-learn/scikit-learn/issues/21755 */display: inline-block !important;position: relative;}#sk-container-id-16 div.sk-text-repr-fallback {display: none;}</style><div id=\"sk-container-id-16\" class=\"sk-top-container\"><div class=\"sk-text-repr-fallback\"><pre>LogisticRegression()</pre><b>In a Jupyter environment, please rerun this cell to show the HTML representation or trust the notebook. <br />On GitHub, the HTML representation is unable to render, please try loading this page with nbviewer.org.</b></div><div class=\"sk-container\" hidden><div class=\"sk-item\"><div class=\"sk-estimator sk-toggleable\"><input class=\"sk-toggleable__control sk-hidden--visually\" id=\"sk-estimator-id-16\" type=\"checkbox\" checked><label for=\"sk-estimator-id-16\" class=\"sk-toggleable__label sk-toggleable__label-arrow\">LogisticRegression</label><div class=\"sk-toggleable__content\"><pre>LogisticRegression()</pre></div></div></div></div></div>"
            ]
          },
          "metadata": {},
          "execution_count": 127
        }
      ]
    },
    {
      "cell_type": "code",
      "source": [
        "y_pred = classifier.predict(X_test)"
      ],
      "metadata": {
        "id": "9OGxbx5yYeMt"
      },
      "execution_count": null,
      "outputs": []
    },
    {
      "cell_type": "code",
      "source": [
        "from sklearn.metrics import confusion_matrix, accuracy_score\n",
        "cm = confusion_matrix(y_test, y_pred)\n",
        "print(\"Number of correct predictions: \", (cm[0][0] + cm[1][1]))\n",
        "print(\"Number of incorrect predictions: \", (cm[0][1] + cm[1][0]))\n",
        "print(\"Accuracy Score: \", accuracy_score(y_test, y_pred))"
      ],
      "metadata": {
        "colab": {
          "base_uri": "https://localhost:8080/"
        },
        "id": "8xp_8rtcbMpP",
        "outputId": "c16816e2-0a37-4f00-c971-be277dee65bd"
      },
      "execution_count": null,
      "outputs": [
        {
          "output_type": "stream",
          "name": "stdout",
          "text": [
            "Number of correct predictions:  64\n",
            "Number of incorrect predictions:  6\n",
            "Accuracy Score:  0.9142857142857143\n"
          ]
        }
      ]
    },
    {
      "cell_type": "code",
      "source": [
        "from sklearn.model_selection import cross_val_score\n",
        "accuracies = cross_val_score(estimator = classifier, X = X_train, y = y_train, cv = 10)\n",
        "print(\"Accuracy: {:.2f} %\".format(accuracies.mean()*100))\n",
        "print(\"Standard Deviation: {:.2f} %\".format(accuracies.std()*100))"
      ],
      "metadata": {
        "colab": {
          "base_uri": "https://localhost:8080/"
        },
        "id": "aOUvNsXEfpPS",
        "outputId": "bc9e4bdd-09c4-4e29-b53a-8857e5273dc8"
      },
      "execution_count": null,
      "outputs": [
        {
          "output_type": "stream",
          "name": "stdout",
          "text": [
            "Accuracy: 74.99 %\n",
            "Standard Deviation: 6.78 %\n"
          ]
        }
      ]
    },
    {
      "cell_type": "markdown",
      "source": [
        "### K-Nearest Neighbours"
      ],
      "metadata": {
        "id": "0ND7PKHLsHlm"
      }
    },
    {
      "cell_type": "code",
      "source": [
        "from sklearn.neighbors import KNeighborsClassifier\n",
        "classifier = KNeighborsClassifier(n_neighbors = 9, metric = 'minkowski', p = 1, weights = 'distance')\n",
        "classifier.fit(X_train, y_train)"
      ],
      "metadata": {
        "colab": {
          "base_uri": "https://localhost:8080/",
          "height": 75
        },
        "id": "oJIKZnyGsMa8",
        "outputId": "1864ec67-16ba-4d95-b657-dc3300eb227b"
      },
      "execution_count": null,
      "outputs": [
        {
          "output_type": "execute_result",
          "data": {
            "text/plain": [
              "KNeighborsClassifier(n_neighbors=9, p=1, weights='distance')"
            ],
            "text/html": [
              "<style>#sk-container-id-17 {color: black;background-color: white;}#sk-container-id-17 pre{padding: 0;}#sk-container-id-17 div.sk-toggleable {background-color: white;}#sk-container-id-17 label.sk-toggleable__label {cursor: pointer;display: block;width: 100%;margin-bottom: 0;padding: 0.3em;box-sizing: border-box;text-align: center;}#sk-container-id-17 label.sk-toggleable__label-arrow:before {content: \"▸\";float: left;margin-right: 0.25em;color: #696969;}#sk-container-id-17 label.sk-toggleable__label-arrow:hover:before {color: black;}#sk-container-id-17 div.sk-estimator:hover label.sk-toggleable__label-arrow:before {color: black;}#sk-container-id-17 div.sk-toggleable__content {max-height: 0;max-width: 0;overflow: hidden;text-align: left;background-color: #f0f8ff;}#sk-container-id-17 div.sk-toggleable__content pre {margin: 0.2em;color: black;border-radius: 0.25em;background-color: #f0f8ff;}#sk-container-id-17 input.sk-toggleable__control:checked~div.sk-toggleable__content {max-height: 200px;max-width: 100%;overflow: auto;}#sk-container-id-17 input.sk-toggleable__control:checked~label.sk-toggleable__label-arrow:before {content: \"▾\";}#sk-container-id-17 div.sk-estimator input.sk-toggleable__control:checked~label.sk-toggleable__label {background-color: #d4ebff;}#sk-container-id-17 div.sk-label input.sk-toggleable__control:checked~label.sk-toggleable__label {background-color: #d4ebff;}#sk-container-id-17 input.sk-hidden--visually {border: 0;clip: rect(1px 1px 1px 1px);clip: rect(1px, 1px, 1px, 1px);height: 1px;margin: -1px;overflow: hidden;padding: 0;position: absolute;width: 1px;}#sk-container-id-17 div.sk-estimator {font-family: monospace;background-color: #f0f8ff;border: 1px dotted black;border-radius: 0.25em;box-sizing: border-box;margin-bottom: 0.5em;}#sk-container-id-17 div.sk-estimator:hover {background-color: #d4ebff;}#sk-container-id-17 div.sk-parallel-item::after {content: \"\";width: 100%;border-bottom: 1px solid gray;flex-grow: 1;}#sk-container-id-17 div.sk-label:hover label.sk-toggleable__label {background-color: #d4ebff;}#sk-container-id-17 div.sk-serial::before {content: \"\";position: absolute;border-left: 1px solid gray;box-sizing: border-box;top: 0;bottom: 0;left: 50%;z-index: 0;}#sk-container-id-17 div.sk-serial {display: flex;flex-direction: column;align-items: center;background-color: white;padding-right: 0.2em;padding-left: 0.2em;position: relative;}#sk-container-id-17 div.sk-item {position: relative;z-index: 1;}#sk-container-id-17 div.sk-parallel {display: flex;align-items: stretch;justify-content: center;background-color: white;position: relative;}#sk-container-id-17 div.sk-item::before, #sk-container-id-17 div.sk-parallel-item::before {content: \"\";position: absolute;border-left: 1px solid gray;box-sizing: border-box;top: 0;bottom: 0;left: 50%;z-index: -1;}#sk-container-id-17 div.sk-parallel-item {display: flex;flex-direction: column;z-index: 1;position: relative;background-color: white;}#sk-container-id-17 div.sk-parallel-item:first-child::after {align-self: flex-end;width: 50%;}#sk-container-id-17 div.sk-parallel-item:last-child::after {align-self: flex-start;width: 50%;}#sk-container-id-17 div.sk-parallel-item:only-child::after {width: 0;}#sk-container-id-17 div.sk-dashed-wrapped {border: 1px dashed gray;margin: 0 0.4em 0.5em 0.4em;box-sizing: border-box;padding-bottom: 0.4em;background-color: white;}#sk-container-id-17 div.sk-label label {font-family: monospace;font-weight: bold;display: inline-block;line-height: 1.2em;}#sk-container-id-17 div.sk-label-container {text-align: center;}#sk-container-id-17 div.sk-container {/* jupyter's `normalize.less` sets `[hidden] { display: none; }` but bootstrap.min.css set `[hidden] { display: none !important; }` so we also need the `!important` here to be able to override the default hidden behavior on the sphinx rendered scikit-learn.org. See: https://github.com/scikit-learn/scikit-learn/issues/21755 */display: inline-block !important;position: relative;}#sk-container-id-17 div.sk-text-repr-fallback {display: none;}</style><div id=\"sk-container-id-17\" class=\"sk-top-container\"><div class=\"sk-text-repr-fallback\"><pre>KNeighborsClassifier(n_neighbors=9, p=1, weights=&#x27;distance&#x27;)</pre><b>In a Jupyter environment, please rerun this cell to show the HTML representation or trust the notebook. <br />On GitHub, the HTML representation is unable to render, please try loading this page with nbviewer.org.</b></div><div class=\"sk-container\" hidden><div class=\"sk-item\"><div class=\"sk-estimator sk-toggleable\"><input class=\"sk-toggleable__control sk-hidden--visually\" id=\"sk-estimator-id-17\" type=\"checkbox\" checked><label for=\"sk-estimator-id-17\" class=\"sk-toggleable__label sk-toggleable__label-arrow\">KNeighborsClassifier</label><div class=\"sk-toggleable__content\"><pre>KNeighborsClassifier(n_neighbors=9, p=1, weights=&#x27;distance&#x27;)</pre></div></div></div></div></div>"
            ]
          },
          "metadata": {},
          "execution_count": 131
        }
      ]
    },
    {
      "cell_type": "code",
      "source": [
        "y_pred = classifier.predict(X_test)"
      ],
      "metadata": {
        "id": "73bDKYnIYfUw"
      },
      "execution_count": null,
      "outputs": []
    },
    {
      "cell_type": "code",
      "source": [
        "from sklearn.metrics import confusion_matrix, accuracy_score\n",
        "cm = confusion_matrix(y_test, y_pred)\n",
        "print(\"Number of correct predictions: \", (cm[0][0] + cm[1][1]))\n",
        "print(\"Number of incorrect predictions: \", (cm[0][1] + cm[1][0]))\n",
        "print(\"Accuracy Score: \", accuracy_score(y_test, y_pred))"
      ],
      "metadata": {
        "colab": {
          "base_uri": "https://localhost:8080/"
        },
        "outputId": "13effc24-4719-49d0-9f5b-c26dced5b9e7",
        "id": "kUobTxW2sUNP"
      },
      "execution_count": null,
      "outputs": [
        {
          "output_type": "stream",
          "name": "stdout",
          "text": [
            "Number of correct predictions:  57\n",
            "Number of incorrect predictions:  13\n",
            "Accuracy Score:  0.8142857142857143\n"
          ]
        }
      ]
    },
    {
      "cell_type": "code",
      "source": [
        "from sklearn.model_selection import cross_val_score\n",
        "accuracies = cross_val_score(estimator = classifier, X = X_train, y = y_train, cv = 10)\n",
        "print(\"Accuracy: {:.2f} %\".format(accuracies.mean()*100))\n",
        "print(\"Standard Deviation: {:.2f} %\".format(accuracies.std()*100))"
      ],
      "metadata": {
        "colab": {
          "base_uri": "https://localhost:8080/"
        },
        "id": "T7MCWLjVgBBl",
        "outputId": "1593c8f4-1d35-4a7a-bd78-50867ce83c43"
      },
      "execution_count": null,
      "outputs": [
        {
          "output_type": "stream",
          "name": "stdout",
          "text": [
            "Accuracy: 73.19 %\n",
            "Standard Deviation: 6.36 %\n"
          ]
        }
      ]
    },
    {
      "cell_type": "code",
      "source": [
        "from sklearn.model_selection import GridSearchCV\n",
        "param_grid = {\n",
        "    'n_neighbors': [3, 5, 7, 9],\n",
        "    'weights': ['uniform', 'distance'],\n",
        "    'p': [1, 2]\n",
        "}\n",
        "\n",
        "grid_search = GridSearchCV(KNeighborsClassifier(), param_grid, cv=5, scoring='accuracy')\n",
        "grid_search.fit(X_train, y_train)\n",
        "print(\"Best Hyperparameters:\", grid_search.best_params_)\n",
        "print(\"Best Cross-validated Accuracy:\", grid_search.best_score_)"
      ],
      "metadata": {
        "colab": {
          "base_uri": "https://localhost:8080/"
        },
        "id": "tfeDbfNJWqzH",
        "outputId": "9e5928b7-473f-466e-febc-751c570a908c"
      },
      "execution_count": null,
      "outputs": [
        {
          "output_type": "stream",
          "name": "stdout",
          "text": [
            "Best Hyperparameters: {'n_neighbors': 9, 'p': 2, 'weights': 'distance'}\n",
            "Best Cross-validated Accuracy: 0.757012987012987\n"
          ]
        }
      ]
    },
    {
      "cell_type": "markdown",
      "source": [
        "### Kernel Support Vector Machine"
      ],
      "metadata": {
        "id": "x9ti1YchtlVL"
      }
    },
    {
      "cell_type": "code",
      "metadata": {
        "id": "e0pFVAmciHQs",
        "colab": {
          "base_uri": "https://localhost:8080/",
          "height": 75
        },
        "outputId": "c454eea5-875e-4f34-b293-af71a8888698"
      },
      "source": [
        "from sklearn.svm import SVC\n",
        "classifier = SVC(kernel = 'rbf', C = 1, gamma = 0.2, random_state = 42)\n",
        "classifier.fit(X_train, y_train)"
      ],
      "execution_count": null,
      "outputs": [
        {
          "output_type": "execute_result",
          "data": {
            "text/plain": [
              "SVC(C=1, gamma=0.2, random_state=42)"
            ],
            "text/html": [
              "<style>#sk-container-id-18 {color: black;background-color: white;}#sk-container-id-18 pre{padding: 0;}#sk-container-id-18 div.sk-toggleable {background-color: white;}#sk-container-id-18 label.sk-toggleable__label {cursor: pointer;display: block;width: 100%;margin-bottom: 0;padding: 0.3em;box-sizing: border-box;text-align: center;}#sk-container-id-18 label.sk-toggleable__label-arrow:before {content: \"▸\";float: left;margin-right: 0.25em;color: #696969;}#sk-container-id-18 label.sk-toggleable__label-arrow:hover:before {color: black;}#sk-container-id-18 div.sk-estimator:hover label.sk-toggleable__label-arrow:before {color: black;}#sk-container-id-18 div.sk-toggleable__content {max-height: 0;max-width: 0;overflow: hidden;text-align: left;background-color: #f0f8ff;}#sk-container-id-18 div.sk-toggleable__content pre {margin: 0.2em;color: black;border-radius: 0.25em;background-color: #f0f8ff;}#sk-container-id-18 input.sk-toggleable__control:checked~div.sk-toggleable__content {max-height: 200px;max-width: 100%;overflow: auto;}#sk-container-id-18 input.sk-toggleable__control:checked~label.sk-toggleable__label-arrow:before {content: \"▾\";}#sk-container-id-18 div.sk-estimator input.sk-toggleable__control:checked~label.sk-toggleable__label {background-color: #d4ebff;}#sk-container-id-18 div.sk-label input.sk-toggleable__control:checked~label.sk-toggleable__label {background-color: #d4ebff;}#sk-container-id-18 input.sk-hidden--visually {border: 0;clip: rect(1px 1px 1px 1px);clip: rect(1px, 1px, 1px, 1px);height: 1px;margin: -1px;overflow: hidden;padding: 0;position: absolute;width: 1px;}#sk-container-id-18 div.sk-estimator {font-family: monospace;background-color: #f0f8ff;border: 1px dotted black;border-radius: 0.25em;box-sizing: border-box;margin-bottom: 0.5em;}#sk-container-id-18 div.sk-estimator:hover {background-color: #d4ebff;}#sk-container-id-18 div.sk-parallel-item::after {content: \"\";width: 100%;border-bottom: 1px solid gray;flex-grow: 1;}#sk-container-id-18 div.sk-label:hover label.sk-toggleable__label {background-color: #d4ebff;}#sk-container-id-18 div.sk-serial::before {content: \"\";position: absolute;border-left: 1px solid gray;box-sizing: border-box;top: 0;bottom: 0;left: 50%;z-index: 0;}#sk-container-id-18 div.sk-serial {display: flex;flex-direction: column;align-items: center;background-color: white;padding-right: 0.2em;padding-left: 0.2em;position: relative;}#sk-container-id-18 div.sk-item {position: relative;z-index: 1;}#sk-container-id-18 div.sk-parallel {display: flex;align-items: stretch;justify-content: center;background-color: white;position: relative;}#sk-container-id-18 div.sk-item::before, #sk-container-id-18 div.sk-parallel-item::before {content: \"\";position: absolute;border-left: 1px solid gray;box-sizing: border-box;top: 0;bottom: 0;left: 50%;z-index: -1;}#sk-container-id-18 div.sk-parallel-item {display: flex;flex-direction: column;z-index: 1;position: relative;background-color: white;}#sk-container-id-18 div.sk-parallel-item:first-child::after {align-self: flex-end;width: 50%;}#sk-container-id-18 div.sk-parallel-item:last-child::after {align-self: flex-start;width: 50%;}#sk-container-id-18 div.sk-parallel-item:only-child::after {width: 0;}#sk-container-id-18 div.sk-dashed-wrapped {border: 1px dashed gray;margin: 0 0.4em 0.5em 0.4em;box-sizing: border-box;padding-bottom: 0.4em;background-color: white;}#sk-container-id-18 div.sk-label label {font-family: monospace;font-weight: bold;display: inline-block;line-height: 1.2em;}#sk-container-id-18 div.sk-label-container {text-align: center;}#sk-container-id-18 div.sk-container {/* jupyter's `normalize.less` sets `[hidden] { display: none; }` but bootstrap.min.css set `[hidden] { display: none !important; }` so we also need the `!important` here to be able to override the default hidden behavior on the sphinx rendered scikit-learn.org. See: https://github.com/scikit-learn/scikit-learn/issues/21755 */display: inline-block !important;position: relative;}#sk-container-id-18 div.sk-text-repr-fallback {display: none;}</style><div id=\"sk-container-id-18\" class=\"sk-top-container\"><div class=\"sk-text-repr-fallback\"><pre>SVC(C=1, gamma=0.2, random_state=42)</pre><b>In a Jupyter environment, please rerun this cell to show the HTML representation or trust the notebook. <br />On GitHub, the HTML representation is unable to render, please try loading this page with nbviewer.org.</b></div><div class=\"sk-container\" hidden><div class=\"sk-item\"><div class=\"sk-estimator sk-toggleable\"><input class=\"sk-toggleable__control sk-hidden--visually\" id=\"sk-estimator-id-18\" type=\"checkbox\" checked><label for=\"sk-estimator-id-18\" class=\"sk-toggleable__label sk-toggleable__label-arrow\">SVC</label><div class=\"sk-toggleable__content\"><pre>SVC(C=1, gamma=0.2, random_state=42)</pre></div></div></div></div></div>"
            ]
          },
          "metadata": {},
          "execution_count": 136
        }
      ]
    },
    {
      "cell_type": "code",
      "source": [
        "y_pred = classifier.predict(X_test)"
      ],
      "metadata": {
        "id": "u0T5gzhotzCO"
      },
      "execution_count": null,
      "outputs": []
    },
    {
      "cell_type": "code",
      "source": [
        "from sklearn.metrics import confusion_matrix, accuracy_score\n",
        "cm = confusion_matrix(y_test, y_pred)\n",
        "print(\"Number of correct predictions: \", (cm[0][0] + cm[1][1]))\n",
        "print(\"Number of incorrect predictions: \", (cm[0][1] + cm[1][0]))\n",
        "print(\"Accuracy Score: \", accuracy_score(y_test, y_pred))"
      ],
      "metadata": {
        "colab": {
          "base_uri": "https://localhost:8080/"
        },
        "outputId": "c41121ea-5be5-4b95-e197-03ac64e37091",
        "id": "XjLzY5Pmt2Qy"
      },
      "execution_count": null,
      "outputs": [
        {
          "output_type": "stream",
          "name": "stdout",
          "text": [
            "Number of correct predictions:  62\n",
            "Number of incorrect predictions:  8\n",
            "Accuracy Score:  0.8857142857142857\n"
          ]
        }
      ]
    },
    {
      "cell_type": "code",
      "source": [
        "from sklearn.model_selection import cross_val_score\n",
        "accuracies = cross_val_score(estimator = classifier, X = X_train, y = y_train, cv = 10)\n",
        "print(\"Accuracy: {:.2f} %\".format(accuracies.mean()*100))\n",
        "print(\"Standard Deviation: {:.2f} %\".format(accuracies.std()*100))"
      ],
      "metadata": {
        "colab": {
          "base_uri": "https://localhost:8080/"
        },
        "id": "Kpc6PQcAe6hb",
        "outputId": "7eef382e-6498-4379-987d-ba59c353f5cc"
      },
      "execution_count": null,
      "outputs": [
        {
          "output_type": "stream",
          "name": "stdout",
          "text": [
            "Accuracy: 74.66 %\n",
            "Standard Deviation: 9.40 %\n"
          ]
        }
      ]
    },
    {
      "cell_type": "code",
      "source": [
        "from sklearn.model_selection import GridSearchCV\n",
        "parameters = [{'C': [0.25, 0.5, 0.75, 1], 'kernel': ['linear']},\n",
        "              {'C': [0.25, 0.5, 0.75, 1], 'kernel': ['rbf'], 'gamma': [0.1, 0.2, 0.3, 0.4, 0.5, 0.6, 0.7, 0.8, 0.9]}]\n",
        "grid_search = GridSearchCV(estimator = classifier,\n",
        "                           param_grid = parameters,\n",
        "                           scoring = 'accuracy',\n",
        "                           cv = 10,\n",
        "                           n_jobs = -1)\n",
        "grid_search.fit(X_train, y_train)\n",
        "best_accuracy = grid_search.best_score_\n",
        "best_parameters = grid_search.best_params_\n",
        "print(\"Best Accuracy: {:.2f} %\".format(best_accuracy*100))\n",
        "print(\"Best Parameters:\", best_parameters)"
      ],
      "metadata": {
        "colab": {
          "base_uri": "https://localhost:8080/"
        },
        "id": "ccElfX6kc6c9",
        "outputId": "f1e206b3-30cb-4e76-933b-79ae4cd2d0ea"
      },
      "execution_count": null,
      "outputs": [
        {
          "output_type": "stream",
          "name": "stdout",
          "text": [
            "Best Accuracy: 77.17 %\n",
            "Best Parameters: {'C': 1, 'gamma': 0.1, 'kernel': 'rbf'}\n"
          ]
        }
      ]
    },
    {
      "cell_type": "markdown",
      "source": [
        "### Decision Tree"
      ],
      "metadata": {
        "id": "E-7CtFjkvS0F"
      }
    },
    {
      "cell_type": "code",
      "source": [
        "from sklearn.tree import DecisionTreeClassifier\n",
        "classifier = DecisionTreeClassifier(criterion = 'entropy', max_depth = 5, min_samples_leaf = 4, min_samples_split = 2, random_state = 42)\n",
        "classifier.fit(X_train, y_train)"
      ],
      "metadata": {
        "colab": {
          "base_uri": "https://localhost:8080/",
          "height": 92
        },
        "id": "uHOqZgULvlb1",
        "outputId": "39d3c833-52e0-44b1-a722-1f42df863ea3"
      },
      "execution_count": null,
      "outputs": [
        {
          "output_type": "execute_result",
          "data": {
            "text/plain": [
              "DecisionTreeClassifier(criterion='entropy', max_depth=5, min_samples_leaf=4,\n",
              "                       random_state=42)"
            ],
            "text/html": [
              "<style>#sk-container-id-19 {color: black;background-color: white;}#sk-container-id-19 pre{padding: 0;}#sk-container-id-19 div.sk-toggleable {background-color: white;}#sk-container-id-19 label.sk-toggleable__label {cursor: pointer;display: block;width: 100%;margin-bottom: 0;padding: 0.3em;box-sizing: border-box;text-align: center;}#sk-container-id-19 label.sk-toggleable__label-arrow:before {content: \"▸\";float: left;margin-right: 0.25em;color: #696969;}#sk-container-id-19 label.sk-toggleable__label-arrow:hover:before {color: black;}#sk-container-id-19 div.sk-estimator:hover label.sk-toggleable__label-arrow:before {color: black;}#sk-container-id-19 div.sk-toggleable__content {max-height: 0;max-width: 0;overflow: hidden;text-align: left;background-color: #f0f8ff;}#sk-container-id-19 div.sk-toggleable__content pre {margin: 0.2em;color: black;border-radius: 0.25em;background-color: #f0f8ff;}#sk-container-id-19 input.sk-toggleable__control:checked~div.sk-toggleable__content {max-height: 200px;max-width: 100%;overflow: auto;}#sk-container-id-19 input.sk-toggleable__control:checked~label.sk-toggleable__label-arrow:before {content: \"▾\";}#sk-container-id-19 div.sk-estimator input.sk-toggleable__control:checked~label.sk-toggleable__label {background-color: #d4ebff;}#sk-container-id-19 div.sk-label input.sk-toggleable__control:checked~label.sk-toggleable__label {background-color: #d4ebff;}#sk-container-id-19 input.sk-hidden--visually {border: 0;clip: rect(1px 1px 1px 1px);clip: rect(1px, 1px, 1px, 1px);height: 1px;margin: -1px;overflow: hidden;padding: 0;position: absolute;width: 1px;}#sk-container-id-19 div.sk-estimator {font-family: monospace;background-color: #f0f8ff;border: 1px dotted black;border-radius: 0.25em;box-sizing: border-box;margin-bottom: 0.5em;}#sk-container-id-19 div.sk-estimator:hover {background-color: #d4ebff;}#sk-container-id-19 div.sk-parallel-item::after {content: \"\";width: 100%;border-bottom: 1px solid gray;flex-grow: 1;}#sk-container-id-19 div.sk-label:hover label.sk-toggleable__label {background-color: #d4ebff;}#sk-container-id-19 div.sk-serial::before {content: \"\";position: absolute;border-left: 1px solid gray;box-sizing: border-box;top: 0;bottom: 0;left: 50%;z-index: 0;}#sk-container-id-19 div.sk-serial {display: flex;flex-direction: column;align-items: center;background-color: white;padding-right: 0.2em;padding-left: 0.2em;position: relative;}#sk-container-id-19 div.sk-item {position: relative;z-index: 1;}#sk-container-id-19 div.sk-parallel {display: flex;align-items: stretch;justify-content: center;background-color: white;position: relative;}#sk-container-id-19 div.sk-item::before, #sk-container-id-19 div.sk-parallel-item::before {content: \"\";position: absolute;border-left: 1px solid gray;box-sizing: border-box;top: 0;bottom: 0;left: 50%;z-index: -1;}#sk-container-id-19 div.sk-parallel-item {display: flex;flex-direction: column;z-index: 1;position: relative;background-color: white;}#sk-container-id-19 div.sk-parallel-item:first-child::after {align-self: flex-end;width: 50%;}#sk-container-id-19 div.sk-parallel-item:last-child::after {align-self: flex-start;width: 50%;}#sk-container-id-19 div.sk-parallel-item:only-child::after {width: 0;}#sk-container-id-19 div.sk-dashed-wrapped {border: 1px dashed gray;margin: 0 0.4em 0.5em 0.4em;box-sizing: border-box;padding-bottom: 0.4em;background-color: white;}#sk-container-id-19 div.sk-label label {font-family: monospace;font-weight: bold;display: inline-block;line-height: 1.2em;}#sk-container-id-19 div.sk-label-container {text-align: center;}#sk-container-id-19 div.sk-container {/* jupyter's `normalize.less` sets `[hidden] { display: none; }` but bootstrap.min.css set `[hidden] { display: none !important; }` so we also need the `!important` here to be able to override the default hidden behavior on the sphinx rendered scikit-learn.org. See: https://github.com/scikit-learn/scikit-learn/issues/21755 */display: inline-block !important;position: relative;}#sk-container-id-19 div.sk-text-repr-fallback {display: none;}</style><div id=\"sk-container-id-19\" class=\"sk-top-container\"><div class=\"sk-text-repr-fallback\"><pre>DecisionTreeClassifier(criterion=&#x27;entropy&#x27;, max_depth=5, min_samples_leaf=4,\n",
              "                       random_state=42)</pre><b>In a Jupyter environment, please rerun this cell to show the HTML representation or trust the notebook. <br />On GitHub, the HTML representation is unable to render, please try loading this page with nbviewer.org.</b></div><div class=\"sk-container\" hidden><div class=\"sk-item\"><div class=\"sk-estimator sk-toggleable\"><input class=\"sk-toggleable__control sk-hidden--visually\" id=\"sk-estimator-id-19\" type=\"checkbox\" checked><label for=\"sk-estimator-id-19\" class=\"sk-toggleable__label sk-toggleable__label-arrow\">DecisionTreeClassifier</label><div class=\"sk-toggleable__content\"><pre>DecisionTreeClassifier(criterion=&#x27;entropy&#x27;, max_depth=5, min_samples_leaf=4,\n",
              "                       random_state=42)</pre></div></div></div></div></div>"
            ]
          },
          "metadata": {},
          "execution_count": 141
        }
      ]
    },
    {
      "cell_type": "code",
      "source": [
        "y_pred = classifier.predict(X_test)"
      ],
      "metadata": {
        "id": "65o_w4zvvnRx"
      },
      "execution_count": null,
      "outputs": []
    },
    {
      "cell_type": "code",
      "source": [
        "from sklearn.metrics import confusion_matrix, accuracy_score\n",
        "cm = confusion_matrix(y_test, y_pred)\n",
        "print(\"Number of correct predictions: \", (cm[0][0] + cm[1][1]))\n",
        "print(\"Number of incorrect predictions: \", (cm[0][1] + cm[1][0]))\n",
        "print(\"Accuracy Score: \", accuracy_score(y_test, y_pred))"
      ],
      "metadata": {
        "colab": {
          "base_uri": "https://localhost:8080/"
        },
        "id": "yXfY5PV2voPJ",
        "outputId": "8b510205-90f1-4950-a4e4-d4b7c36de33c"
      },
      "execution_count": null,
      "outputs": [
        {
          "output_type": "stream",
          "name": "stdout",
          "text": [
            "Number of correct predictions:  61\n",
            "Number of incorrect predictions:  9\n",
            "Accuracy Score:  0.8714285714285714\n"
          ]
        }
      ]
    },
    {
      "cell_type": "code",
      "metadata": {
        "id": "N5puHSW9ydyi",
        "outputId": "c1bc34ef-61a7-4744-8ac4-93846b090ff1",
        "colab": {
          "base_uri": "https://localhost:8080/"
        }
      },
      "source": [
        "from sklearn.model_selection import cross_val_score\n",
        "accuracies = cross_val_score(estimator = classifier, X = X_train, y = y_train, cv = 10)\n",
        "print(\"Accuracy: {:.2f} %\".format(accuracies.mean()*100))\n",
        "print(\"Standard Deviation: {:.2f} %\".format(accuracies.std()*100))"
      ],
      "execution_count": null,
      "outputs": [
        {
          "output_type": "stream",
          "name": "stdout",
          "text": [
            "Accuracy: 73.13 %\n",
            "Standard Deviation: 10.04 %\n"
          ]
        }
      ]
    },
    {
      "cell_type": "code",
      "source": [
        "param_grid = {\n",
        "    'criterion': ['gini', 'entropy'],\n",
        "    'max_depth': [None, 5, 10, 15],\n",
        "    'min_samples_split': [2, 5, 10],\n",
        "    'min_samples_leaf': [1, 2, 4]\n",
        "}\n",
        "\n",
        "grid_search = GridSearchCV(classifier, param_grid, cv=5, scoring='accuracy')\n",
        "\n",
        "grid_search.fit(X_train, y_train)\n",
        "\n",
        "print(\"Best hyperparameters:\", grid_search.best_params_)\n",
        "\n",
        "best_model = grid_search.best_estimator_\n",
        "accuracy = best_model.score(X_test, y_test)\n",
        "print(\"Test set accuracy:\", accuracy)"
      ],
      "metadata": {
        "colab": {
          "base_uri": "https://localhost:8080/"
        },
        "id": "xcZTkk35ieft",
        "outputId": "7530447f-79d6-4758-e407-78465334a2d5"
      },
      "execution_count": null,
      "outputs": [
        {
          "output_type": "stream",
          "name": "stdout",
          "text": [
            "Best hyperparameters: {'criterion': 'gini', 'max_depth': None, 'min_samples_leaf': 1, 'min_samples_split': 5}\n",
            "Test set accuracy: 0.7571428571428571\n"
          ]
        }
      ]
    },
    {
      "cell_type": "markdown",
      "source": [
        "### Random Forest"
      ],
      "metadata": {
        "id": "0HfmKeROwDi4"
      }
    },
    {
      "cell_type": "code",
      "source": [
        "from sklearn.ensemble import RandomForestClassifier\n",
        "classifier = RandomForestClassifier(n_estimators = 50, bootstrap = True, min_samples_split = 5, criterion = 'gini', random_state = 42)\n",
        "classifier.fit(X_train, y_train)"
      ],
      "metadata": {
        "colab": {
          "base_uri": "https://localhost:8080/",
          "height": 75
        },
        "id": "YWZkWZTLwSNY",
        "outputId": "e7eb197a-166d-4626-9774-ae65d577d192"
      },
      "execution_count": null,
      "outputs": [
        {
          "output_type": "execute_result",
          "data": {
            "text/plain": [
              "RandomForestClassifier(min_samples_split=5, n_estimators=50, random_state=42)"
            ],
            "text/html": [
              "<style>#sk-container-id-20 {color: black;background-color: white;}#sk-container-id-20 pre{padding: 0;}#sk-container-id-20 div.sk-toggleable {background-color: white;}#sk-container-id-20 label.sk-toggleable__label {cursor: pointer;display: block;width: 100%;margin-bottom: 0;padding: 0.3em;box-sizing: border-box;text-align: center;}#sk-container-id-20 label.sk-toggleable__label-arrow:before {content: \"▸\";float: left;margin-right: 0.25em;color: #696969;}#sk-container-id-20 label.sk-toggleable__label-arrow:hover:before {color: black;}#sk-container-id-20 div.sk-estimator:hover label.sk-toggleable__label-arrow:before {color: black;}#sk-container-id-20 div.sk-toggleable__content {max-height: 0;max-width: 0;overflow: hidden;text-align: left;background-color: #f0f8ff;}#sk-container-id-20 div.sk-toggleable__content pre {margin: 0.2em;color: black;border-radius: 0.25em;background-color: #f0f8ff;}#sk-container-id-20 input.sk-toggleable__control:checked~div.sk-toggleable__content {max-height: 200px;max-width: 100%;overflow: auto;}#sk-container-id-20 input.sk-toggleable__control:checked~label.sk-toggleable__label-arrow:before {content: \"▾\";}#sk-container-id-20 div.sk-estimator input.sk-toggleable__control:checked~label.sk-toggleable__label {background-color: #d4ebff;}#sk-container-id-20 div.sk-label input.sk-toggleable__control:checked~label.sk-toggleable__label {background-color: #d4ebff;}#sk-container-id-20 input.sk-hidden--visually {border: 0;clip: rect(1px 1px 1px 1px);clip: rect(1px, 1px, 1px, 1px);height: 1px;margin: -1px;overflow: hidden;padding: 0;position: absolute;width: 1px;}#sk-container-id-20 div.sk-estimator {font-family: monospace;background-color: #f0f8ff;border: 1px dotted black;border-radius: 0.25em;box-sizing: border-box;margin-bottom: 0.5em;}#sk-container-id-20 div.sk-estimator:hover {background-color: #d4ebff;}#sk-container-id-20 div.sk-parallel-item::after {content: \"\";width: 100%;border-bottom: 1px solid gray;flex-grow: 1;}#sk-container-id-20 div.sk-label:hover label.sk-toggleable__label {background-color: #d4ebff;}#sk-container-id-20 div.sk-serial::before {content: \"\";position: absolute;border-left: 1px solid gray;box-sizing: border-box;top: 0;bottom: 0;left: 50%;z-index: 0;}#sk-container-id-20 div.sk-serial {display: flex;flex-direction: column;align-items: center;background-color: white;padding-right: 0.2em;padding-left: 0.2em;position: relative;}#sk-container-id-20 div.sk-item {position: relative;z-index: 1;}#sk-container-id-20 div.sk-parallel {display: flex;align-items: stretch;justify-content: center;background-color: white;position: relative;}#sk-container-id-20 div.sk-item::before, #sk-container-id-20 div.sk-parallel-item::before {content: \"\";position: absolute;border-left: 1px solid gray;box-sizing: border-box;top: 0;bottom: 0;left: 50%;z-index: -1;}#sk-container-id-20 div.sk-parallel-item {display: flex;flex-direction: column;z-index: 1;position: relative;background-color: white;}#sk-container-id-20 div.sk-parallel-item:first-child::after {align-self: flex-end;width: 50%;}#sk-container-id-20 div.sk-parallel-item:last-child::after {align-self: flex-start;width: 50%;}#sk-container-id-20 div.sk-parallel-item:only-child::after {width: 0;}#sk-container-id-20 div.sk-dashed-wrapped {border: 1px dashed gray;margin: 0 0.4em 0.5em 0.4em;box-sizing: border-box;padding-bottom: 0.4em;background-color: white;}#sk-container-id-20 div.sk-label label {font-family: monospace;font-weight: bold;display: inline-block;line-height: 1.2em;}#sk-container-id-20 div.sk-label-container {text-align: center;}#sk-container-id-20 div.sk-container {/* jupyter's `normalize.less` sets `[hidden] { display: none; }` but bootstrap.min.css set `[hidden] { display: none !important; }` so we also need the `!important` here to be able to override the default hidden behavior on the sphinx rendered scikit-learn.org. See: https://github.com/scikit-learn/scikit-learn/issues/21755 */display: inline-block !important;position: relative;}#sk-container-id-20 div.sk-text-repr-fallback {display: none;}</style><div id=\"sk-container-id-20\" class=\"sk-top-container\"><div class=\"sk-text-repr-fallback\"><pre>RandomForestClassifier(min_samples_split=5, n_estimators=50, random_state=42)</pre><b>In a Jupyter environment, please rerun this cell to show the HTML representation or trust the notebook. <br />On GitHub, the HTML representation is unable to render, please try loading this page with nbviewer.org.</b></div><div class=\"sk-container\" hidden><div class=\"sk-item\"><div class=\"sk-estimator sk-toggleable\"><input class=\"sk-toggleable__control sk-hidden--visually\" id=\"sk-estimator-id-20\" type=\"checkbox\" checked><label for=\"sk-estimator-id-20\" class=\"sk-toggleable__label sk-toggleable__label-arrow\">RandomForestClassifier</label><div class=\"sk-toggleable__content\"><pre>RandomForestClassifier(min_samples_split=5, n_estimators=50, random_state=42)</pre></div></div></div></div></div>"
            ]
          },
          "metadata": {},
          "execution_count": 146
        }
      ]
    },
    {
      "cell_type": "code",
      "source": [
        "y_pred = classifier.predict(X_test)"
      ],
      "metadata": {
        "id": "NkRKnFHLwvA2"
      },
      "execution_count": null,
      "outputs": []
    },
    {
      "cell_type": "code",
      "source": [
        "from sklearn.metrics import confusion_matrix, accuracy_score\n",
        "cm = confusion_matrix(y_test, y_pred)\n",
        "print(\"Number of correct predictions: \", (cm[0][0] + cm[1][1]))\n",
        "print(\"Number of incorrect predictions: \", (cm[0][1] + cm[1][0]))\n",
        "print(\"Accuracy Score: \", accuracy_score(y_test, y_pred))"
      ],
      "metadata": {
        "colab": {
          "base_uri": "https://localhost:8080/"
        },
        "outputId": "057f3e84-153e-49f1-e4d6-d5b25a22e0b3",
        "id": "sYr4H41Swv92"
      },
      "execution_count": null,
      "outputs": [
        {
          "output_type": "stream",
          "name": "stdout",
          "text": [
            "Number of correct predictions:  56\n",
            "Number of incorrect predictions:  14\n",
            "Accuracy Score:  0.8\n"
          ]
        }
      ]
    },
    {
      "cell_type": "code",
      "source": [
        "from sklearn.model_selection import cross_val_score\n",
        "accuracies = cross_val_score(estimator = classifier, X = X_train, y = y_train, cv = 10)\n",
        "print(\"Accuracy: {:.2f} %\".format(accuracies.mean()*100))\n",
        "print(\"Standard Deviation: {:.2f} %\".format(accuracies.std()*100))"
      ],
      "metadata": {
        "colab": {
          "base_uri": "https://localhost:8080/"
        },
        "id": "pOMqp3wpo-fe",
        "outputId": "5002fb04-a9a4-4344-9acf-e6cbc5a9bcac"
      },
      "execution_count": null,
      "outputs": [
        {
          "output_type": "stream",
          "name": "stdout",
          "text": [
            "Accuracy: 77.54 %\n",
            "Standard Deviation: 6.84 %\n"
          ]
        }
      ]
    },
    {
      "cell_type": "code",
      "source": [
        "param_grid = {\n",
        "    'n_estimators': [50, 100, 200],\n",
        "    'max_depth': [None, 5, 10, 15],\n",
        "    'min_samples_split': [2, 5, 10],\n",
        "    'min_samples_leaf': [1, 2, 4],\n",
        "    'bootstrap': [True, False],\n",
        "    'criterion': ['gini', 'entropy']\n",
        "}\n",
        "\n",
        "grid_search = GridSearchCV(classifier, param_grid, cv=5, scoring='accuracy')\n",
        "\n",
        "grid_search.fit(X_train, y_train)\n",
        "\n",
        "print(\"Best hyperparameters:\", grid_search.best_params_)\n",
        "\n",
        "best_model = grid_search.best_estimator_\n",
        "accuracy = best_model.score(X_test, y_test)\n",
        "print(\"Test set accuracy:\", accuracy)"
      ],
      "metadata": {
        "colab": {
          "base_uri": "https://localhost:8080/"
        },
        "id": "6ZMHkLwGkAZb",
        "outputId": "be4952e4-3233-4804-c79b-9a65740cf93f"
      },
      "execution_count": null,
      "outputs": [
        {
          "output_type": "stream",
          "name": "stdout",
          "text": [
            "Best hyperparameters: {'bootstrap': True, 'criterion': 'gini', 'max_depth': 5, 'min_samples_leaf': 1, 'min_samples_split': 5, 'n_estimators': 50}\n",
            "Test set accuracy: 0.8428571428571429\n"
          ]
        }
      ]
    },
    {
      "cell_type": "markdown",
      "source": [
        "## Naive Bayes"
      ],
      "metadata": {
        "id": "7qs9bOiheI8F"
      }
    },
    {
      "cell_type": "code",
      "source": [
        "from sklearn.naive_bayes import GaussianNB\n",
        "nbClassifier = GaussianNB()\n",
        "nbClassifier.fit(X_train, y_train)"
      ],
      "metadata": {
        "colab": {
          "base_uri": "https://localhost:8080/",
          "height": 75
        },
        "id": "5PizYkSgznzu",
        "outputId": "b8719517-fe26-42be-a197-835e1253a01f"
      },
      "execution_count": 7,
      "outputs": [
        {
          "output_type": "execute_result",
          "data": {
            "text/plain": [
              "GaussianNB()"
            ],
            "text/html": [
              "<style>#sk-container-id-1 {color: black;background-color: white;}#sk-container-id-1 pre{padding: 0;}#sk-container-id-1 div.sk-toggleable {background-color: white;}#sk-container-id-1 label.sk-toggleable__label {cursor: pointer;display: block;width: 100%;margin-bottom: 0;padding: 0.3em;box-sizing: border-box;text-align: center;}#sk-container-id-1 label.sk-toggleable__label-arrow:before {content: \"▸\";float: left;margin-right: 0.25em;color: #696969;}#sk-container-id-1 label.sk-toggleable__label-arrow:hover:before {color: black;}#sk-container-id-1 div.sk-estimator:hover label.sk-toggleable__label-arrow:before {color: black;}#sk-container-id-1 div.sk-toggleable__content {max-height: 0;max-width: 0;overflow: hidden;text-align: left;background-color: #f0f8ff;}#sk-container-id-1 div.sk-toggleable__content pre {margin: 0.2em;color: black;border-radius: 0.25em;background-color: #f0f8ff;}#sk-container-id-1 input.sk-toggleable__control:checked~div.sk-toggleable__content {max-height: 200px;max-width: 100%;overflow: auto;}#sk-container-id-1 input.sk-toggleable__control:checked~label.sk-toggleable__label-arrow:before {content: \"▾\";}#sk-container-id-1 div.sk-estimator input.sk-toggleable__control:checked~label.sk-toggleable__label {background-color: #d4ebff;}#sk-container-id-1 div.sk-label input.sk-toggleable__control:checked~label.sk-toggleable__label {background-color: #d4ebff;}#sk-container-id-1 input.sk-hidden--visually {border: 0;clip: rect(1px 1px 1px 1px);clip: rect(1px, 1px, 1px, 1px);height: 1px;margin: -1px;overflow: hidden;padding: 0;position: absolute;width: 1px;}#sk-container-id-1 div.sk-estimator {font-family: monospace;background-color: #f0f8ff;border: 1px dotted black;border-radius: 0.25em;box-sizing: border-box;margin-bottom: 0.5em;}#sk-container-id-1 div.sk-estimator:hover {background-color: #d4ebff;}#sk-container-id-1 div.sk-parallel-item::after {content: \"\";width: 100%;border-bottom: 1px solid gray;flex-grow: 1;}#sk-container-id-1 div.sk-label:hover label.sk-toggleable__label {background-color: #d4ebff;}#sk-container-id-1 div.sk-serial::before {content: \"\";position: absolute;border-left: 1px solid gray;box-sizing: border-box;top: 0;bottom: 0;left: 50%;z-index: 0;}#sk-container-id-1 div.sk-serial {display: flex;flex-direction: column;align-items: center;background-color: white;padding-right: 0.2em;padding-left: 0.2em;position: relative;}#sk-container-id-1 div.sk-item {position: relative;z-index: 1;}#sk-container-id-1 div.sk-parallel {display: flex;align-items: stretch;justify-content: center;background-color: white;position: relative;}#sk-container-id-1 div.sk-item::before, #sk-container-id-1 div.sk-parallel-item::before {content: \"\";position: absolute;border-left: 1px solid gray;box-sizing: border-box;top: 0;bottom: 0;left: 50%;z-index: -1;}#sk-container-id-1 div.sk-parallel-item {display: flex;flex-direction: column;z-index: 1;position: relative;background-color: white;}#sk-container-id-1 div.sk-parallel-item:first-child::after {align-self: flex-end;width: 50%;}#sk-container-id-1 div.sk-parallel-item:last-child::after {align-self: flex-start;width: 50%;}#sk-container-id-1 div.sk-parallel-item:only-child::after {width: 0;}#sk-container-id-1 div.sk-dashed-wrapped {border: 1px dashed gray;margin: 0 0.4em 0.5em 0.4em;box-sizing: border-box;padding-bottom: 0.4em;background-color: white;}#sk-container-id-1 div.sk-label label {font-family: monospace;font-weight: bold;display: inline-block;line-height: 1.2em;}#sk-container-id-1 div.sk-label-container {text-align: center;}#sk-container-id-1 div.sk-container {/* jupyter's `normalize.less` sets `[hidden] { display: none; }` but bootstrap.min.css set `[hidden] { display: none !important; }` so we also need the `!important` here to be able to override the default hidden behavior on the sphinx rendered scikit-learn.org. See: https://github.com/scikit-learn/scikit-learn/issues/21755 */display: inline-block !important;position: relative;}#sk-container-id-1 div.sk-text-repr-fallback {display: none;}</style><div id=\"sk-container-id-1\" class=\"sk-top-container\"><div class=\"sk-text-repr-fallback\"><pre>GaussianNB()</pre><b>In a Jupyter environment, please rerun this cell to show the HTML representation or trust the notebook. <br />On GitHub, the HTML representation is unable to render, please try loading this page with nbviewer.org.</b></div><div class=\"sk-container\" hidden><div class=\"sk-item\"><div class=\"sk-estimator sk-toggleable\"><input class=\"sk-toggleable__control sk-hidden--visually\" id=\"sk-estimator-id-1\" type=\"checkbox\" checked><label for=\"sk-estimator-id-1\" class=\"sk-toggleable__label sk-toggleable__label-arrow\">GaussianNB</label><div class=\"sk-toggleable__content\"><pre>GaussianNB()</pre></div></div></div></div></div>"
            ]
          },
          "metadata": {},
          "execution_count": 7
        }
      ]
    },
    {
      "cell_type": "code",
      "source": [
        "y_pred = nbClassifier.predict(X_test)"
      ],
      "metadata": {
        "id": "j_g4i81VYlIg"
      },
      "execution_count": null,
      "outputs": []
    },
    {
      "cell_type": "code",
      "source": [
        "from sklearn.metrics import confusion_matrix, accuracy_score\n",
        "cm = confusion_matrix(y_test, y_pred)\n",
        "print(\"Number of correct predictions: \", (cm[0][0] + cm[1][1]))\n",
        "print(\"Number of incorrect predictions: \", (cm[0][1] + cm[1][0]))\n",
        "print(\"Accuracy Score: \", accuracy_score(y_test, y_pred))"
      ],
      "metadata": {
        "colab": {
          "base_uri": "https://localhost:8080/"
        },
        "outputId": "80d95a70-84b6-4675-ea08-fb1239d5f923",
        "id": "WWcf7L5lztL5"
      },
      "execution_count": null,
      "outputs": [
        {
          "output_type": "stream",
          "name": "stdout",
          "text": [
            "Number of correct predictions:  58\n",
            "Number of incorrect predictions:  12\n",
            "Accuracy Score:  0.8285714285714286\n"
          ]
        }
      ]
    },
    {
      "cell_type": "code",
      "metadata": {
        "outputId": "7f44e34f-14cf-4b18-8de1-472aa37b7d80",
        "colab": {
          "base_uri": "https://localhost:8080/"
        },
        "id": "pBcfutaJqHaI"
      },
      "source": [
        "from sklearn.model_selection import cross_val_score\n",
        "accuracies = cross_val_score(estimator = nbClassifier, X = X_train, y = y_train, cv = 10)\n",
        "print(\"Accuracy: {:.2f} %\".format(accuracies.mean()*100))\n",
        "print(\"Standard Deviation: {:.2f} %\".format(accuracies.std()*100))"
      ],
      "execution_count": null,
      "outputs": [
        {
          "output_type": "stream",
          "name": "stdout",
          "text": [
            "Accuracy: 77.55 %\n",
            "Standard Deviation: 6.93 %\n"
          ]
        }
      ]
    },
    {
      "cell_type": "markdown",
      "source": [
        "### XGBoost"
      ],
      "metadata": {
        "id": "litv8LvRVMSo"
      }
    },
    {
      "cell_type": "code",
      "metadata": {
        "id": "ude1J0E47SKN",
        "colab": {
          "base_uri": "https://localhost:8080/",
          "height": 248
        },
        "outputId": "38e413dd-aa21-406d-f2b6-bff62ef63385"
      },
      "source": [
        "from xgboost import XGBClassifier\n",
        "xgClassifier = XGBClassifier()\n",
        "xgClassifier.fit(X_train, y_train)"
      ],
      "execution_count": null,
      "outputs": [
        {
          "output_type": "execute_result",
          "data": {
            "text/plain": [
              "XGBClassifier(base_score=None, booster=None, callbacks=None,\n",
              "              colsample_bylevel=None, colsample_bynode=None,\n",
              "              colsample_bytree=None, device=None, early_stopping_rounds=None,\n",
              "              enable_categorical=False, eval_metric=None, feature_types=None,\n",
              "              gamma=None, grow_policy=None, importance_type=None,\n",
              "              interaction_constraints=None, learning_rate=None, max_bin=None,\n",
              "              max_cat_threshold=None, max_cat_to_onehot=None,\n",
              "              max_delta_step=None, max_depth=None, max_leaves=None,\n",
              "              min_child_weight=None, missing=nan, monotone_constraints=None,\n",
              "              multi_strategy=None, n_estimators=None, n_jobs=None,\n",
              "              num_parallel_tree=None, random_state=None, ...)"
            ],
            "text/html": [
              "<style>#sk-container-id-22 {color: black;background-color: white;}#sk-container-id-22 pre{padding: 0;}#sk-container-id-22 div.sk-toggleable {background-color: white;}#sk-container-id-22 label.sk-toggleable__label {cursor: pointer;display: block;width: 100%;margin-bottom: 0;padding: 0.3em;box-sizing: border-box;text-align: center;}#sk-container-id-22 label.sk-toggleable__label-arrow:before {content: \"▸\";float: left;margin-right: 0.25em;color: #696969;}#sk-container-id-22 label.sk-toggleable__label-arrow:hover:before {color: black;}#sk-container-id-22 div.sk-estimator:hover label.sk-toggleable__label-arrow:before {color: black;}#sk-container-id-22 div.sk-toggleable__content {max-height: 0;max-width: 0;overflow: hidden;text-align: left;background-color: #f0f8ff;}#sk-container-id-22 div.sk-toggleable__content pre {margin: 0.2em;color: black;border-radius: 0.25em;background-color: #f0f8ff;}#sk-container-id-22 input.sk-toggleable__control:checked~div.sk-toggleable__content {max-height: 200px;max-width: 100%;overflow: auto;}#sk-container-id-22 input.sk-toggleable__control:checked~label.sk-toggleable__label-arrow:before {content: \"▾\";}#sk-container-id-22 div.sk-estimator input.sk-toggleable__control:checked~label.sk-toggleable__label {background-color: #d4ebff;}#sk-container-id-22 div.sk-label input.sk-toggleable__control:checked~label.sk-toggleable__label {background-color: #d4ebff;}#sk-container-id-22 input.sk-hidden--visually {border: 0;clip: rect(1px 1px 1px 1px);clip: rect(1px, 1px, 1px, 1px);height: 1px;margin: -1px;overflow: hidden;padding: 0;position: absolute;width: 1px;}#sk-container-id-22 div.sk-estimator {font-family: monospace;background-color: #f0f8ff;border: 1px dotted black;border-radius: 0.25em;box-sizing: border-box;margin-bottom: 0.5em;}#sk-container-id-22 div.sk-estimator:hover {background-color: #d4ebff;}#sk-container-id-22 div.sk-parallel-item::after {content: \"\";width: 100%;border-bottom: 1px solid gray;flex-grow: 1;}#sk-container-id-22 div.sk-label:hover label.sk-toggleable__label {background-color: #d4ebff;}#sk-container-id-22 div.sk-serial::before {content: \"\";position: absolute;border-left: 1px solid gray;box-sizing: border-box;top: 0;bottom: 0;left: 50%;z-index: 0;}#sk-container-id-22 div.sk-serial {display: flex;flex-direction: column;align-items: center;background-color: white;padding-right: 0.2em;padding-left: 0.2em;position: relative;}#sk-container-id-22 div.sk-item {position: relative;z-index: 1;}#sk-container-id-22 div.sk-parallel {display: flex;align-items: stretch;justify-content: center;background-color: white;position: relative;}#sk-container-id-22 div.sk-item::before, #sk-container-id-22 div.sk-parallel-item::before {content: \"\";position: absolute;border-left: 1px solid gray;box-sizing: border-box;top: 0;bottom: 0;left: 50%;z-index: -1;}#sk-container-id-22 div.sk-parallel-item {display: flex;flex-direction: column;z-index: 1;position: relative;background-color: white;}#sk-container-id-22 div.sk-parallel-item:first-child::after {align-self: flex-end;width: 50%;}#sk-container-id-22 div.sk-parallel-item:last-child::after {align-self: flex-start;width: 50%;}#sk-container-id-22 div.sk-parallel-item:only-child::after {width: 0;}#sk-container-id-22 div.sk-dashed-wrapped {border: 1px dashed gray;margin: 0 0.4em 0.5em 0.4em;box-sizing: border-box;padding-bottom: 0.4em;background-color: white;}#sk-container-id-22 div.sk-label label {font-family: monospace;font-weight: bold;display: inline-block;line-height: 1.2em;}#sk-container-id-22 div.sk-label-container {text-align: center;}#sk-container-id-22 div.sk-container {/* jupyter's `normalize.less` sets `[hidden] { display: none; }` but bootstrap.min.css set `[hidden] { display: none !important; }` so we also need the `!important` here to be able to override the default hidden behavior on the sphinx rendered scikit-learn.org. See: https://github.com/scikit-learn/scikit-learn/issues/21755 */display: inline-block !important;position: relative;}#sk-container-id-22 div.sk-text-repr-fallback {display: none;}</style><div id=\"sk-container-id-22\" class=\"sk-top-container\"><div class=\"sk-text-repr-fallback\"><pre>XGBClassifier(base_score=None, booster=None, callbacks=None,\n",
              "              colsample_bylevel=None, colsample_bynode=None,\n",
              "              colsample_bytree=None, device=None, early_stopping_rounds=None,\n",
              "              enable_categorical=False, eval_metric=None, feature_types=None,\n",
              "              gamma=None, grow_policy=None, importance_type=None,\n",
              "              interaction_constraints=None, learning_rate=None, max_bin=None,\n",
              "              max_cat_threshold=None, max_cat_to_onehot=None,\n",
              "              max_delta_step=None, max_depth=None, max_leaves=None,\n",
              "              min_child_weight=None, missing=nan, monotone_constraints=None,\n",
              "              multi_strategy=None, n_estimators=None, n_jobs=None,\n",
              "              num_parallel_tree=None, random_state=None, ...)</pre><b>In a Jupyter environment, please rerun this cell to show the HTML representation or trust the notebook. <br />On GitHub, the HTML representation is unable to render, please try loading this page with nbviewer.org.</b></div><div class=\"sk-container\" hidden><div class=\"sk-item\"><div class=\"sk-estimator sk-toggleable\"><input class=\"sk-toggleable__control sk-hidden--visually\" id=\"sk-estimator-id-22\" type=\"checkbox\" checked><label for=\"sk-estimator-id-22\" class=\"sk-toggleable__label sk-toggleable__label-arrow\">XGBClassifier</label><div class=\"sk-toggleable__content\"><pre>XGBClassifier(base_score=None, booster=None, callbacks=None,\n",
              "              colsample_bylevel=None, colsample_bynode=None,\n",
              "              colsample_bytree=None, device=None, early_stopping_rounds=None,\n",
              "              enable_categorical=False, eval_metric=None, feature_types=None,\n",
              "              gamma=None, grow_policy=None, importance_type=None,\n",
              "              interaction_constraints=None, learning_rate=None, max_bin=None,\n",
              "              max_cat_threshold=None, max_cat_to_onehot=None,\n",
              "              max_delta_step=None, max_depth=None, max_leaves=None,\n",
              "              min_child_weight=None, missing=nan, monotone_constraints=None,\n",
              "              multi_strategy=None, n_estimators=None, n_jobs=None,\n",
              "              num_parallel_tree=None, random_state=None, ...)</pre></div></div></div></div></div>"
            ]
          },
          "metadata": {},
          "execution_count": 155
        }
      ]
    },
    {
      "cell_type": "code",
      "source": [
        "y_pred = xgClassifier.predict(X_test)"
      ],
      "metadata": {
        "id": "i0YDWiq1VVOF"
      },
      "execution_count": null,
      "outputs": []
    },
    {
      "cell_type": "code",
      "source": [
        "from sklearn.metrics import confusion_matrix, accuracy_score\n",
        "cm = confusion_matrix(y_test, y_pred)\n",
        "print(\"Number of correct predictions: \", (cm[0][0] + cm[1][1]))\n",
        "print(\"Number of incorrect predictions: \", (cm[0][1] + cm[1][0]))\n",
        "print(\"Accuracy Score: \", accuracy_score(y_test, y_pred))"
      ],
      "metadata": {
        "colab": {
          "base_uri": "https://localhost:8080/"
        },
        "outputId": "db696683-c071-4869-c204-21e695508bd0",
        "id": "wg5qijF-VWcj"
      },
      "execution_count": null,
      "outputs": [
        {
          "output_type": "stream",
          "name": "stdout",
          "text": [
            "Number of correct predictions:  59\n",
            "Number of incorrect predictions:  11\n",
            "Accuracy Score:  0.8428571428571429\n"
          ]
        }
      ]
    },
    {
      "cell_type": "code",
      "metadata": {
        "outputId": "1fbd2139-db47-4df1-b020-f4ab254c2d9c",
        "colab": {
          "base_uri": "https://localhost:8080/"
        },
        "id": "o2TkhU9NqYN8"
      },
      "source": [
        "from sklearn.model_selection import cross_val_score\n",
        "accuracies = cross_val_score(estimator = xgClassifier, X = X_train, y = y_train, cv = 10)\n",
        "print(\"Accuracy: {:.2f} %\".format(accuracies.mean()*100))\n",
        "print(\"Standard Deviation: {:.2f} %\".format(accuracies.std()*100))"
      ],
      "execution_count": null,
      "outputs": [
        {
          "output_type": "stream",
          "name": "stdout",
          "text": [
            "Accuracy: 73.94 %\n",
            "Standard Deviation: 7.09 %\n"
          ]
        }
      ]
    },
    {
      "cell_type": "markdown",
      "source": [
        "#### The Naive Bayes Model seems to have the best overall accuracy, however the random forest classifier also seems to be a great model as well"
      ],
      "metadata": {
        "id": "xSxEWneS_i5m"
      }
    },
    {
      "cell_type": "markdown",
      "source": [
        "## LETS SEE HOW MANY CORRECT PREDICTIONS WE CAN MAKE IN NBA GAMES"
      ],
      "metadata": {
        "id": "MZSYXAy3tcEX"
      }
    },
    {
      "cell_type": "markdown",
      "source": [
        "### 1/20/24"
      ],
      "metadata": {
        "id": "BTYVaVm4dCHE"
      }
    },
    {
      "cell_type": "code",
      "source": [
        "import numpy as np\n",
        "matchups = [[1610612749,1610612765],[1610612755, 1610612766], [1610612759, 1610612764], [1610612761, 1610612752], [1610612739,1610612737], [1610612762,1610612745], [1610612763,1610612741],[1610612760,1610612750]\n",
        "]\n",
        "print(\"PREDICTIONS (01/20/24)\\n-------------------------------------------------------------\")\n",
        "for matchup in matchups:\n",
        "  winning_chance = []\n",
        "  for team_id in matchup:\n",
        "    df = team_games[team_id]\n",
        "    data = df.head(7)[['FG_PCT', 'FT_PCT', 'REB', 'TOV', 'PF']].values\n",
        "    mean_of_columns = np.mean(data, axis=0)\n",
        "    last5Games = np.array([mean_of_columns])\n",
        "    scaledStats = sc.transform(last5Games)\n",
        "    prob = nbClassifier.predict_proba(scaledStats)\n",
        "    winning_chance.append(prob[0][1])\n",
        "  print('Matchup: %s VS %s'%( team_games[matchup[0]].iloc[0,1], team_games[matchup[1]].iloc[0,1]))\n",
        "  if winning_chance[0] > winning_chance[1]:\n",
        "\n",
        "    print('Predicted Winner: %s\\n'%(team_games[matchup[0]].iloc[0,1]))\n",
        "  else:\n",
        "    print('Predicted Winner: %s\\n'%(team_games[matchup[1]].iloc[0,1]))"
      ],
      "metadata": {
        "colab": {
          "base_uri": "https://localhost:8080/"
        },
        "id": "GtC7uHQUdVvc",
        "outputId": "697abbbc-3d1e-4802-ef3b-550466952bb0"
      },
      "execution_count": null,
      "outputs": [
        {
          "output_type": "stream",
          "name": "stdout",
          "text": [
            "PREDICTIONS (01/20/24)\n",
            "-------------------------------------------------------------\n",
            "Matchup: Milwaukee Bucks VS Detroit Pistons\n",
            "Predicted Winner: Milwaukee Bucks\n",
            "\n",
            "Matchup: Philadelphia 76ers VS Charlotte Hornets\n",
            "Predicted Winner: Philadelphia 76ers\n",
            "\n",
            "Matchup: San Antonio Spurs VS Washington Wizards\n",
            "Predicted Winner: San Antonio Spurs\n",
            "\n",
            "Matchup: Toronto Raptors VS New York Knicks\n",
            "Predicted Winner: Toronto Raptors\n",
            "\n",
            "Matchup: Cleveland Cavaliers VS Atlanta Hawks\n",
            "Predicted Winner: Cleveland Cavaliers\n",
            "\n",
            "Matchup: Utah Jazz VS Houston Rockets\n",
            "Predicted Winner: Utah Jazz\n",
            "\n",
            "Matchup: Memphis Grizzlies VS Chicago Bulls\n",
            "Predicted Winner: Chicago Bulls\n",
            "\n",
            "Matchup: Oklahoma City Thunder VS Minnesota Timberwolves\n",
            "Predicted Winner: Oklahoma City Thunder\n",
            "\n"
          ]
        }
      ]
    },
    {
      "cell_type": "markdown",
      "source": [
        "### ACTUAL RESULTS"
      ],
      "metadata": {
        "id": "j8SVvBaBLtDk"
      }
    },
    {
      "cell_type": "markdown",
      "source": [
        "![Screen Shot 2024-01-20 at 10.56.13 PM.png](data:image/png;base64,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)"
      ],
      "metadata": {
        "id": "2Cj0yMk0_XRz"
      }
    },
    {
      "cell_type": "markdown",
      "source": [
        "### 1/21/24"
      ],
      "metadata": {
        "id": "9HNgKDDSZ9JA"
      }
    },
    {
      "cell_type": "code",
      "source": [
        "import numpy as np\n",
        "matchups = [[1610612751,1610612746],[1610612743, 1610612764], [1610612748, 1610612753], [1610612738, 1610612745], [1610612754,1610612756], [1610612757,1610612747]]\n",
        "print(\"PREDICTIONS (01/21/24)\\n-------------------------------------------------------------\")\n",
        "for matchup in matchups:\n",
        "  winning_chance = []\n",
        "  for team_id in matchup:\n",
        "    df = team_games[team_id]\n",
        "    data = df.head(7)[['FG_PCT', 'FT_PCT', 'REB', 'TOV', 'PF']].values\n",
        "    mean_of_columns = np.mean(data, axis=0)\n",
        "    last5Games = np.array([mean_of_columns])\n",
        "    scaledStats = sc.transform(last5Games)\n",
        "    prob = nbClassifier.predict_proba(scaledStats)\n",
        "    winning_chance.append(prob[0][1])\n",
        "  print('Matchup: %s VS %s'%( team_games[matchup[0]].iloc[0,1], team_games[matchup[1]].iloc[0,1]))\n",
        "  print(winning_chance)\n",
        "  if winning_chance[0] > winning_chance[1]:\n",
        "\n",
        "    print('Predicted Winner: %s\\n'%(team_games[matchup[0]].iloc[0,1]))\n",
        "  else:\n",
        "    print('Predicted Winner: %s\\n'%(team_games[matchup[1]].iloc[0,1]))"
      ],
      "metadata": {
        "colab": {
          "base_uri": "https://localhost:8080/"
        },
        "outputId": "419fbe95-0ee1-45fd-9f5d-1952df98e689",
        "id": "KEk7kjRraMkE"
      },
      "execution_count": null,
      "outputs": [
        {
          "output_type": "stream",
          "name": "stdout",
          "text": [
            "PREDICTIONS (01/21/24)\n",
            "-------------------------------------------------------------\n",
            "Matchup: Brooklyn Nets VS LA Clippers\n",
            "[0.5629605682192483, 0.807107149318405]\n",
            "Predicted Winner: LA Clippers\n",
            "\n",
            "Matchup: Denver Nuggets VS Washington Wizards\n",
            "[0.9334334825105135, 0.628010678985148]\n",
            "Predicted Winner: Denver Nuggets\n",
            "\n",
            "Matchup: Miami Heat VS Orlando Magic\n",
            "[0.5618180513446168, 0.47584112968290987]\n",
            "Predicted Winner: Miami Heat\n",
            "\n",
            "Matchup: Boston Celtics VS Houston Rockets\n",
            "[0.6080668100737452, 0.5948353171044023]\n",
            "Predicted Winner: Boston Celtics\n",
            "\n",
            "Matchup: Indiana Pacers VS Phoenix Suns\n",
            "[0.6658998709898359, 0.8441901715265002]\n",
            "Predicted Winner: Phoenix Suns\n",
            "\n",
            "Matchup: Portland Trail Blazers VS Los Angeles Lakers\n",
            "[0.33067807627433443, 0.8097894516335608]\n",
            "Predicted Winner: Los Angeles Lakers\n",
            "\n"
          ]
        }
      ]
    },
    {
      "cell_type": "markdown",
      "source": [
        "### ACTUAL RESULTS"
      ],
      "metadata": {
        "id": "Btv01_QTAwX3"
      }
    },
    {
      "cell_type": "markdown",
      "source": [
        "![Screen Shot 2024-01-22 at 2.11.21 AM.png](data:image/png;base64,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)"
      ],
      "metadata": {
        "id": "QzqNLbVT9Fek"
      }
    },
    {
      "cell_type": "markdown",
      "source": [
        "### 1/22/24"
      ],
      "metadata": {
        "id": "wpgy4AU8Abev"
      }
    },
    {
      "cell_type": "code",
      "source": [
        "import numpy as np\n",
        "matchups = [[1610612739,1610612753],[1610612759, 1610612755], [1610612749, 1610612765], [1610612763, 1610612761], [1610612766,1610612750], [1610612738,1610612742], [1610612741,1610612756],[1610612737,1610612758]]\n",
        "print(\"PREDICTIONS (01/22/24)\\n-------------------------------------------------------------\")\n",
        "for matchup in matchups:\n",
        "  winning_chance = []\n",
        "  for team_id in matchup:\n",
        "    df = team_games[team_id]\n",
        "    data = df.head(7)[['FG_PCT', 'FT_PCT', 'REB', 'TOV', 'PF']].values\n",
        "    mean_of_columns = np.mean(data, axis=0)\n",
        "    last5Games = np.array([mean_of_columns])\n",
        "    scaledStats = sc.transform(last5Games)\n",
        "    prob = nbClassifier.predict_proba(scaledStats)\n",
        "    winning_chance.append(prob[0][1])\n",
        "  print('Matchup: %s VS %s'%( team_games[matchup[0]].iloc[0,1], team_games[matchup[1]].iloc[0,1]))\n",
        "  if winning_chance[0] > winning_chance[1]:\n",
        "\n",
        "    print('Predicted Winner: %s\\n'%(team_games[matchup[0]].iloc[0,1]))\n",
        "  else:\n",
        "    print('Predicted Winner: %s\\n'%(team_games[matchup[1]].iloc[0,1]))"
      ],
      "metadata": {
        "colab": {
          "base_uri": "https://localhost:8080/"
        },
        "outputId": "e39dd1c9-3b62-405c-8108-13d7943db847",
        "id": "z7t_EGY8AkLA"
      },
      "execution_count": 12,
      "outputs": [
        {
          "output_type": "stream",
          "name": "stdout",
          "text": [
            "PREDICTIONS (01/22/24)\n",
            "-------------------------------------------------------------\n",
            "Matchup: Cleveland Cavaliers VS Orlando Magic\n",
            "Predicted Winner: Cleveland Cavaliers\n",
            "\n",
            "Matchup: San Antonio Spurs VS Philadelphia 76ers\n",
            "Predicted Winner: San Antonio Spurs\n",
            "\n",
            "Matchup: Milwaukee Bucks VS Detroit Pistons\n",
            "Predicted Winner: Milwaukee Bucks\n",
            "\n",
            "Matchup: Memphis Grizzlies VS Toronto Raptors\n",
            "Predicted Winner: Toronto Raptors\n",
            "\n",
            "Matchup: Charlotte Hornets VS Minnesota Timberwolves\n",
            "Predicted Winner: Minnesota Timberwolves\n",
            "\n",
            "Matchup: Boston Celtics VS Dallas Mavericks\n",
            "Predicted Winner: Boston Celtics\n",
            "\n",
            "Matchup: Chicago Bulls VS Phoenix Suns\n",
            "Predicted Winner: Phoenix Suns\n",
            "\n",
            "Matchup: Atlanta Hawks VS Sacramento Kings\n",
            "Predicted Winner: Sacramento Kings\n",
            "\n"
          ]
        }
      ]
    },
    {
      "cell_type": "code",
      "source": [
        "for team_id in team_games:\n",
        "  print(team_id)\n",
        "  display(team_games[team_id]['TEAM_NAME'][0])"
      ],
      "metadata": {
        "colab": {
          "base_uri": "https://localhost:8080/",
          "height": 1000
        },
        "id": "z5kwFshEvA7S",
        "outputId": "35c5cc53-24fe-40af-9326-a0c095568f02"
      },
      "execution_count": null,
      "outputs": [
        {
          "output_type": "stream",
          "name": "stdout",
          "text": [
            "1610612737\n"
          ]
        },
        {
          "output_type": "display_data",
          "data": {
            "text/plain": [
              "'Atlanta Hawks'"
            ],
            "application/vnd.google.colaboratory.intrinsic+json": {
              "type": "string"
            }
          },
          "metadata": {}
        },
        {
          "output_type": "stream",
          "name": "stdout",
          "text": [
            "1610612738\n"
          ]
        },
        {
          "output_type": "display_data",
          "data": {
            "text/plain": [
              "'Boston Celtics'"
            ],
            "application/vnd.google.colaboratory.intrinsic+json": {
              "type": "string"
            }
          },
          "metadata": {}
        },
        {
          "output_type": "stream",
          "name": "stdout",
          "text": [
            "1610612739\n"
          ]
        },
        {
          "output_type": "display_data",
          "data": {
            "text/plain": [
              "'Cleveland Cavaliers'"
            ],
            "application/vnd.google.colaboratory.intrinsic+json": {
              "type": "string"
            }
          },
          "metadata": {}
        },
        {
          "output_type": "stream",
          "name": "stdout",
          "text": [
            "1610612740\n"
          ]
        },
        {
          "output_type": "display_data",
          "data": {
            "text/plain": [
              "'New Orleans Pelicans'"
            ],
            "application/vnd.google.colaboratory.intrinsic+json": {
              "type": "string"
            }
          },
          "metadata": {}
        },
        {
          "output_type": "stream",
          "name": "stdout",
          "text": [
            "1610612741\n"
          ]
        },
        {
          "output_type": "display_data",
          "data": {
            "text/plain": [
              "'Chicago Bulls'"
            ],
            "application/vnd.google.colaboratory.intrinsic+json": {
              "type": "string"
            }
          },
          "metadata": {}
        },
        {
          "output_type": "stream",
          "name": "stdout",
          "text": [
            "1610612742\n"
          ]
        },
        {
          "output_type": "display_data",
          "data": {
            "text/plain": [
              "'Dallas Mavericks'"
            ],
            "application/vnd.google.colaboratory.intrinsic+json": {
              "type": "string"
            }
          },
          "metadata": {}
        },
        {
          "output_type": "stream",
          "name": "stdout",
          "text": [
            "1610612743\n"
          ]
        },
        {
          "output_type": "display_data",
          "data": {
            "text/plain": [
              "'Denver Nuggets'"
            ],
            "application/vnd.google.colaboratory.intrinsic+json": {
              "type": "string"
            }
          },
          "metadata": {}
        },
        {
          "output_type": "stream",
          "name": "stdout",
          "text": [
            "1610612744\n"
          ]
        },
        {
          "output_type": "display_data",
          "data": {
            "text/plain": [
              "'Golden State Warriors'"
            ],
            "application/vnd.google.colaboratory.intrinsic+json": {
              "type": "string"
            }
          },
          "metadata": {}
        },
        {
          "output_type": "stream",
          "name": "stdout",
          "text": [
            "1610612745\n"
          ]
        },
        {
          "output_type": "display_data",
          "data": {
            "text/plain": [
              "'Houston Rockets'"
            ],
            "application/vnd.google.colaboratory.intrinsic+json": {
              "type": "string"
            }
          },
          "metadata": {}
        },
        {
          "output_type": "stream",
          "name": "stdout",
          "text": [
            "1610612746\n"
          ]
        },
        {
          "output_type": "display_data",
          "data": {
            "text/plain": [
              "'LA Clippers'"
            ],
            "application/vnd.google.colaboratory.intrinsic+json": {
              "type": "string"
            }
          },
          "metadata": {}
        },
        {
          "output_type": "stream",
          "name": "stdout",
          "text": [
            "1610612747\n"
          ]
        },
        {
          "output_type": "display_data",
          "data": {
            "text/plain": [
              "'Los Angeles Lakers'"
            ],
            "application/vnd.google.colaboratory.intrinsic+json": {
              "type": "string"
            }
          },
          "metadata": {}
        },
        {
          "output_type": "stream",
          "name": "stdout",
          "text": [
            "1610612748\n"
          ]
        },
        {
          "output_type": "display_data",
          "data": {
            "text/plain": [
              "'Miami Heat'"
            ],
            "application/vnd.google.colaboratory.intrinsic+json": {
              "type": "string"
            }
          },
          "metadata": {}
        },
        {
          "output_type": "stream",
          "name": "stdout",
          "text": [
            "1610612749\n"
          ]
        },
        {
          "output_type": "display_data",
          "data": {
            "text/plain": [
              "'Milwaukee Bucks'"
            ],
            "application/vnd.google.colaboratory.intrinsic+json": {
              "type": "string"
            }
          },
          "metadata": {}
        },
        {
          "output_type": "stream",
          "name": "stdout",
          "text": [
            "1610612750\n"
          ]
        },
        {
          "output_type": "display_data",
          "data": {
            "text/plain": [
              "'Minnesota Timberwolves'"
            ],
            "application/vnd.google.colaboratory.intrinsic+json": {
              "type": "string"
            }
          },
          "metadata": {}
        },
        {
          "output_type": "stream",
          "name": "stdout",
          "text": [
            "1610612751\n"
          ]
        },
        {
          "output_type": "display_data",
          "data": {
            "text/plain": [
              "'Brooklyn Nets'"
            ],
            "application/vnd.google.colaboratory.intrinsic+json": {
              "type": "string"
            }
          },
          "metadata": {}
        },
        {
          "output_type": "stream",
          "name": "stdout",
          "text": [
            "1610612752\n"
          ]
        },
        {
          "output_type": "display_data",
          "data": {
            "text/plain": [
              "'New York Knicks'"
            ],
            "application/vnd.google.colaboratory.intrinsic+json": {
              "type": "string"
            }
          },
          "metadata": {}
        },
        {
          "output_type": "stream",
          "name": "stdout",
          "text": [
            "1610612753\n"
          ]
        },
        {
          "output_type": "display_data",
          "data": {
            "text/plain": [
              "'Orlando Magic'"
            ],
            "application/vnd.google.colaboratory.intrinsic+json": {
              "type": "string"
            }
          },
          "metadata": {}
        },
        {
          "output_type": "stream",
          "name": "stdout",
          "text": [
            "1610612754\n"
          ]
        },
        {
          "output_type": "display_data",
          "data": {
            "text/plain": [
              "'Indiana Pacers'"
            ],
            "application/vnd.google.colaboratory.intrinsic+json": {
              "type": "string"
            }
          },
          "metadata": {}
        },
        {
          "output_type": "stream",
          "name": "stdout",
          "text": [
            "1610612755\n"
          ]
        },
        {
          "output_type": "display_data",
          "data": {
            "text/plain": [
              "'Philadelphia 76ers'"
            ],
            "application/vnd.google.colaboratory.intrinsic+json": {
              "type": "string"
            }
          },
          "metadata": {}
        },
        {
          "output_type": "stream",
          "name": "stdout",
          "text": [
            "1610612756\n"
          ]
        },
        {
          "output_type": "display_data",
          "data": {
            "text/plain": [
              "'Phoenix Suns'"
            ],
            "application/vnd.google.colaboratory.intrinsic+json": {
              "type": "string"
            }
          },
          "metadata": {}
        },
        {
          "output_type": "stream",
          "name": "stdout",
          "text": [
            "1610612757\n"
          ]
        },
        {
          "output_type": "display_data",
          "data": {
            "text/plain": [
              "'Portland Trail Blazers'"
            ],
            "application/vnd.google.colaboratory.intrinsic+json": {
              "type": "string"
            }
          },
          "metadata": {}
        },
        {
          "output_type": "stream",
          "name": "stdout",
          "text": [
            "1610612758\n"
          ]
        },
        {
          "output_type": "display_data",
          "data": {
            "text/plain": [
              "'Sacramento Kings'"
            ],
            "application/vnd.google.colaboratory.intrinsic+json": {
              "type": "string"
            }
          },
          "metadata": {}
        },
        {
          "output_type": "stream",
          "name": "stdout",
          "text": [
            "1610612759\n"
          ]
        },
        {
          "output_type": "display_data",
          "data": {
            "text/plain": [
              "'San Antonio Spurs'"
            ],
            "application/vnd.google.colaboratory.intrinsic+json": {
              "type": "string"
            }
          },
          "metadata": {}
        },
        {
          "output_type": "stream",
          "name": "stdout",
          "text": [
            "1610612760\n"
          ]
        },
        {
          "output_type": "display_data",
          "data": {
            "text/plain": [
              "'Oklahoma City Thunder'"
            ],
            "application/vnd.google.colaboratory.intrinsic+json": {
              "type": "string"
            }
          },
          "metadata": {}
        },
        {
          "output_type": "stream",
          "name": "stdout",
          "text": [
            "1610612761\n"
          ]
        },
        {
          "output_type": "display_data",
          "data": {
            "text/plain": [
              "'Toronto Raptors'"
            ],
            "application/vnd.google.colaboratory.intrinsic+json": {
              "type": "string"
            }
          },
          "metadata": {}
        },
        {
          "output_type": "stream",
          "name": "stdout",
          "text": [
            "1610612762\n"
          ]
        },
        {
          "output_type": "display_data",
          "data": {
            "text/plain": [
              "'Utah Jazz'"
            ],
            "application/vnd.google.colaboratory.intrinsic+json": {
              "type": "string"
            }
          },
          "metadata": {}
        },
        {
          "output_type": "stream",
          "name": "stdout",
          "text": [
            "1610612763\n"
          ]
        },
        {
          "output_type": "display_data",
          "data": {
            "text/plain": [
              "'Memphis Grizzlies'"
            ],
            "application/vnd.google.colaboratory.intrinsic+json": {
              "type": "string"
            }
          },
          "metadata": {}
        },
        {
          "output_type": "stream",
          "name": "stdout",
          "text": [
            "1610612764\n"
          ]
        },
        {
          "output_type": "display_data",
          "data": {
            "text/plain": [
              "'Washington Wizards'"
            ],
            "application/vnd.google.colaboratory.intrinsic+json": {
              "type": "string"
            }
          },
          "metadata": {}
        },
        {
          "output_type": "stream",
          "name": "stdout",
          "text": [
            "1610612765\n"
          ]
        },
        {
          "output_type": "display_data",
          "data": {
            "text/plain": [
              "'Detroit Pistons'"
            ],
            "application/vnd.google.colaboratory.intrinsic+json": {
              "type": "string"
            }
          },
          "metadata": {}
        },
        {
          "output_type": "stream",
          "name": "stdout",
          "text": [
            "1610612766\n"
          ]
        },
        {
          "output_type": "display_data",
          "data": {
            "text/plain": [
              "'Charlotte Hornets'"
            ],
            "application/vnd.google.colaboratory.intrinsic+json": {
              "type": "string"
            }
          },
          "metadata": {}
        }
      ]
    }
  ]
}